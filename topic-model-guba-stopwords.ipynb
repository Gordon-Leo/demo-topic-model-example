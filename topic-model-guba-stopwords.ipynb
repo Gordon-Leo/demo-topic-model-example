{
 "cells": [
  {
   "cell_type": "code",
   "execution_count": 1,
   "metadata": {},
   "outputs": [],
   "source": [
    "import pandas as pd"
   ]
  },
  {
   "cell_type": "code",
   "execution_count": 2,
   "metadata": {},
   "outputs": [],
   "source": [
    "# 以下方法读取方式不对\n",
    "# filename = 'datascience.csv'\n",
    "# with open(filename, encoding='gb18030')"
   ]
  },
  {
   "cell_type": "code",
   "execution_count": 3,
   "metadata": {},
   "outputs": [],
   "source": [
    "df = pd.read_csv('data_20180514_20180515.csv', encoding='gb18030')"
   ]
  },
  {
   "cell_type": "code",
   "execution_count": 4,
   "metadata": {},
   "outputs": [
    {
     "data": {
      "text/html": [
       "<div>\n",
       "<style scoped>\n",
       "    .dataframe tbody tr th:only-of-type {\n",
       "        vertical-align: middle;\n",
       "    }\n",
       "\n",
       "    .dataframe tbody tr th {\n",
       "        vertical-align: top;\n",
       "    }\n",
       "\n",
       "    .dataframe thead th {\n",
       "        text-align: right;\n",
       "    }\n",
       "</style>\n",
       "<table border=\"1\" class=\"dataframe\">\n",
       "  <thead>\n",
       "    <tr style=\"text-align: right;\">\n",
       "      <th></th>\n",
       "      <th>title</th>\n",
       "      <th>author</th>\n",
       "      <th>comment</th>\n",
       "    </tr>\n",
       "  </thead>\n",
       "  <tbody>\n",
       "    <tr>\n",
       "      <th>0</th>\n",
       "      <td>重磅！银保监会收编融资租赁、保理、典当三大行</td>\n",
       "      <td>财经评论</td>\n",
       "      <td>来源：中国基金报 编辑：东方财富网在统一监管的趋势下，融资租赁、保理、典当三大行业的多头监管...</td>\n",
       "    </tr>\n",
       "    <tr>\n",
       "      <th>1</th>\n",
       "      <td>乐天玛特接盘方：出价并不高 完全依靠自有资金</td>\n",
       "      <td>财经评论</td>\n",
       "      <td>来源：中国证券报 编辑：东方财富网5月11日上午8点半，两天两夜不合眼的谈判后，韩国人撤走；...</td>\n",
       "    </tr>\n",
       "    <tr>\n",
       "      <th>2</th>\n",
       "      <td>富士康IPO引轩然大波！招股书暗藏玄机独家解析</td>\n",
       "      <td>财经评论</td>\n",
       "      <td>来源：新财富 编辑：东方财富网2018年5月13日晚上11点，富士康回A股上市的招股意向书披...</td>\n",
       "    </tr>\n",
       "    <tr>\n",
       "      <th>3</th>\n",
       "      <td>中国药企牵手美国卫生研究院 获HPV疫苗全球独家</td>\n",
       "      <td>财经评论</td>\n",
       "      <td>来源：证券时报e公司 编辑：东方财富网据中证资讯报道，近日，武汉博沃生物科技有限公司与美国国...</td>\n",
       "    </tr>\n",
       "    <tr>\n",
       "      <th>4</th>\n",
       "      <td>镍去库存节奏加快 三元高镍化有望驱动镍价走高</td>\n",
       "      <td>财经评论</td>\n",
       "      <td>来源：证券时报e公司 编辑：东方财富网据怀新投资报道，周一镍价大幅拉涨，沪镍期货主力合约较上...</td>\n",
       "    </tr>\n",
       "  </tbody>\n",
       "</table>\n",
       "</div>"
      ],
      "text/plain": [
       "                      title author  \\\n",
       "0    重磅！银保监会收编融资租赁、保理、典当三大行   财经评论   \n",
       "1    乐天玛特接盘方：出价并不高 完全依靠自有资金   财经评论   \n",
       "2   富士康IPO引轩然大波！招股书暗藏玄机独家解析   财经评论   \n",
       "3  中国药企牵手美国卫生研究院 获HPV疫苗全球独家   财经评论   \n",
       "4    镍去库存节奏加快 三元高镍化有望驱动镍价走高   财经评论   \n",
       "\n",
       "                                             comment  \n",
       "0  来源：中国基金报 编辑：东方财富网在统一监管的趋势下，融资租赁、保理、典当三大行业的多头监管...  \n",
       "1  来源：中国证券报 编辑：东方财富网5月11日上午8点半，两天两夜不合眼的谈判后，韩国人撤走；...  \n",
       "2  来源：新财富 编辑：东方财富网2018年5月13日晚上11点，富士康回A股上市的招股意向书披...  \n",
       "3  来源：证券时报e公司 编辑：东方财富网据中证资讯报道，近日，武汉博沃生物科技有限公司与美国国...  \n",
       "4  来源：证券时报e公司 编辑：东方财富网据怀新投资报道，周一镍价大幅拉涨，沪镍期货主力合约较上...  "
      ]
     },
     "execution_count": 4,
     "metadata": {},
     "output_type": "execute_result"
    }
   ],
   "source": [
    "df.head()"
   ]
  },
  {
   "cell_type": "code",
   "execution_count": 5,
   "metadata": {},
   "outputs": [
    {
     "data": {
      "text/plain": [
       "(279, 3)"
      ]
     },
     "execution_count": 5,
     "metadata": {},
     "output_type": "execute_result"
    }
   ],
   "source": [
    "df.shape"
   ]
  },
  {
   "cell_type": "code",
   "execution_count": 6,
   "metadata": {},
   "outputs": [],
   "source": [
    "X = df[['comment']]"
   ]
  },
  {
   "cell_type": "code",
   "execution_count": 7,
   "metadata": {},
   "outputs": [
    {
     "data": {
      "text/plain": [
       "(279, 1)"
      ]
     },
     "execution_count": 7,
     "metadata": {},
     "output_type": "execute_result"
    }
   ],
   "source": [
    "X.shape"
   ]
  },
  {
   "cell_type": "code",
   "execution_count": 8,
   "metadata": {},
   "outputs": [
    {
     "data": {
      "text/html": [
       "<div>\n",
       "<style scoped>\n",
       "    .dataframe tbody tr th:only-of-type {\n",
       "        vertical-align: middle;\n",
       "    }\n",
       "\n",
       "    .dataframe tbody tr th {\n",
       "        vertical-align: top;\n",
       "    }\n",
       "\n",
       "    .dataframe thead th {\n",
       "        text-align: right;\n",
       "    }\n",
       "</style>\n",
       "<table border=\"1\" class=\"dataframe\">\n",
       "  <thead>\n",
       "    <tr style=\"text-align: right;\">\n",
       "      <th></th>\n",
       "      <th>comment</th>\n",
       "    </tr>\n",
       "  </thead>\n",
       "  <tbody>\n",
       "    <tr>\n",
       "      <th>0</th>\n",
       "      <td>来源：中国基金报 编辑：东方财富网在统一监管的趋势下，融资租赁、保理、典当三大行业的多头监管...</td>\n",
       "    </tr>\n",
       "    <tr>\n",
       "      <th>1</th>\n",
       "      <td>来源：中国证券报 编辑：东方财富网5月11日上午8点半，两天两夜不合眼的谈判后，韩国人撤走；...</td>\n",
       "    </tr>\n",
       "    <tr>\n",
       "      <th>2</th>\n",
       "      <td>来源：新财富 编辑：东方财富网2018年5月13日晚上11点，富士康回A股上市的招股意向书披...</td>\n",
       "    </tr>\n",
       "    <tr>\n",
       "      <th>3</th>\n",
       "      <td>来源：证券时报e公司 编辑：东方财富网据中证资讯报道，近日，武汉博沃生物科技有限公司与美国国...</td>\n",
       "    </tr>\n",
       "    <tr>\n",
       "      <th>4</th>\n",
       "      <td>来源：证券时报e公司 编辑：东方财富网据怀新投资报道，周一镍价大幅拉涨，沪镍期货主力合约较上...</td>\n",
       "    </tr>\n",
       "  </tbody>\n",
       "</table>\n",
       "</div>"
      ],
      "text/plain": [
       "                                             comment\n",
       "0  来源：中国基金报 编辑：东方财富网在统一监管的趋势下，融资租赁、保理、典当三大行业的多头监管...\n",
       "1  来源：中国证券报 编辑：东方财富网5月11日上午8点半，两天两夜不合眼的谈判后，韩国人撤走；...\n",
       "2  来源：新财富 编辑：东方财富网2018年5月13日晚上11点，富士康回A股上市的招股意向书披...\n",
       "3  来源：证券时报e公司 编辑：东方财富网据中证资讯报道，近日，武汉博沃生物科技有限公司与美国国...\n",
       "4  来源：证券时报e公司 编辑：东方财富网据怀新投资报道，周一镍价大幅拉涨，沪镍期货主力合约较上..."
      ]
     },
     "execution_count": 8,
     "metadata": {},
     "output_type": "execute_result"
    }
   ],
   "source": [
    "X.head()"
   ]
  },
  {
   "cell_type": "code",
   "execution_count": 9,
   "metadata": {},
   "outputs": [],
   "source": [
    "import jieba"
   ]
  },
  {
   "cell_type": "code",
   "execution_count": 10,
   "metadata": {},
   "outputs": [],
   "source": [
    "def chinese_word_cut(mytext):\n",
    "    return ' '.join(jieba.cut(mytext))"
   ]
  },
  {
   "cell_type": "code",
   "execution_count": 11,
   "metadata": {},
   "outputs": [
    {
     "name": "stderr",
     "output_type": "stream",
     "text": [
      "Building prefix dict from the default dictionary ...\n",
      "Loading model from cache C:\\Users\\wu\\AppData\\Local\\Temp\\jieba.cache\n",
      "Loading model cost 1.298 seconds.\n",
      "Prefix dict has been built succesfully.\n",
      "D:\\Anaconda3\\lib\\site-packages\\ipykernel_launcher.py:1: SettingWithCopyWarning: \n",
      "A value is trying to be set on a copy of a slice from a DataFrame.\n",
      "Try using .loc[row_indexer,col_indexer] = value instead\n",
      "\n",
      "See the caveats in the documentation: http://pandas.pydata.org/pandas-docs/stable/indexing.html#indexing-view-versus-copy\n",
      "  \"\"\"Entry point for launching an IPython kernel.\n"
     ]
    }
   ],
   "source": [
    "X['cutted_comment'] = X.comment.apply(chinese_word_cut)"
   ]
  },
  {
   "cell_type": "code",
   "execution_count": 12,
   "metadata": {},
   "outputs": [
    {
     "data": {
      "text/plain": [
       "0    来源 ： 中国 基金 报   编辑 ： 东方 财富网 在 统一 监管 的 趋势 下 ， 融资...\n",
       "1    来源 ： 中国 证券报   编辑 ： 东方 财富网 5 月 11 日 上午 8 点半 ， 两...\n",
       "2    来源 ： 新 财富   编辑 ： 东方 财富网 2018 年 5 月 13 日 晚上 11 ...\n",
       "3    来源 ： 证券时报 e 公司   编辑 ： 东方 财富网 据 中证 资讯 报道 ， 近日 ，...\n",
       "4    来源 ： 证券时报 e 公司   编辑 ： 东方 财富网 据 怀新 投资 报道 ， 周一 镍...\n",
       "Name: cutted_comment, dtype: object"
      ]
     },
     "execution_count": 12,
     "metadata": {},
     "output_type": "execute_result"
    }
   ],
   "source": [
    "X.cutted_comment.head()"
   ]
  },
  {
   "cell_type": "code",
   "execution_count": 13,
   "metadata": {},
   "outputs": [
    {
     "data": {
      "text/plain": [
       "0    来源 ： 中国 基金 报   编辑 ： 东方 财富网 在 统一 监管 的 趋势 下 ， 融资...\n",
       "1    来源 ： 中国 证券报   编辑 ： 东方 财富网 5 月 11 日 上午 8 点半 ， 两...\n",
       "2    来源 ： 新 财富   编辑 ： 东方 财富网 2018 年 5 月 13 日 晚上 11 ...\n",
       "3    来源 ： 证券时报 e 公司   编辑 ： 东方 财富网 据 中证 资讯 报道 ， 近日 ，...\n",
       "4    来源 ： 证券时报 e 公司   编辑 ： 东方 财富网 据 怀新 投资 报道 ， 周一 镍...\n",
       "Name: cutted_comment, dtype: object"
      ]
     },
     "execution_count": 13,
     "metadata": {},
     "output_type": "execute_result"
    }
   ],
   "source": [
    "X.cutted_comment[:5]"
   ]
  },
  {
   "cell_type": "code",
   "execution_count": 14,
   "metadata": {},
   "outputs": [
    {
     "data": {
      "text/plain": [
       "(279, 2)"
      ]
     },
     "execution_count": 14,
     "metadata": {},
     "output_type": "execute_result"
    }
   ],
   "source": [
    "X.shape"
   ]
  },
  {
   "cell_type": "code",
   "execution_count": 15,
   "metadata": {},
   "outputs": [],
   "source": [
    "def get_custom_stopwords(stop_words_file):\n",
    "    with open(stop_words_file, encoding='utf-8') as f:\n",
    "        stopwords = f.read( )\n",
    "    stopwords_list = stopwords.split('\\n')\n",
    "    custom_stopwords_list = [i for i in stopwords_list]\n",
    "    return custom_stopwords_list"
   ]
  },
  {
   "cell_type": "code",
   "execution_count": 16,
   "metadata": {},
   "outputs": [],
   "source": [
    "stop_words_file = 'mystopwords.txt'    #原来是stopwordsHIT.txt, mystopwords.txt比前者多过滤416（58203-57787）\n",
    "stopwords = get_custom_stopwords(stop_words_file)"
   ]
  },
  {
   "cell_type": "code",
   "execution_count": 17,
   "metadata": {},
   "outputs": [
    {
     "data": {
      "text/plain": [
       "['至少', '东方', '财富网', '编辑', '点击', '查看', '评论', '来源', '原文', '']"
      ]
     },
     "execution_count": 17,
     "metadata": {},
     "output_type": "execute_result"
    }
   ],
   "source": [
    "stopwords[-10:]"
   ]
  },
  {
   "cell_type": "code",
   "execution_count": 18,
   "metadata": {},
   "outputs": [],
   "source": [
    "from sklearn.feature_extraction.text import CountVectorizer"
   ]
  },
  {
   "cell_type": "code",
   "execution_count": 19,
   "metadata": {},
   "outputs": [],
   "source": [
    "vect = CountVectorizer()"
   ]
  },
  {
   "cell_type": "code",
   "execution_count": 20,
   "metadata": {},
   "outputs": [],
   "source": [
    "term_matrix = pd.DataFrame(vect.fit_transform(X.cutted_comment).toarray(), columns=vect.get_feature_names())"
   ]
  },
  {
   "cell_type": "code",
   "execution_count": 21,
   "metadata": {},
   "outputs": [
    {
     "data": {
      "text/html": [
       "<div>\n",
       "<style scoped>\n",
       "    .dataframe tbody tr th:only-of-type {\n",
       "        vertical-align: middle;\n",
       "    }\n",
       "\n",
       "    .dataframe tbody tr th {\n",
       "        vertical-align: top;\n",
       "    }\n",
       "\n",
       "    .dataframe thead th {\n",
       "        text-align: right;\n",
       "    }\n",
       "</style>\n",
       "<table border=\"1\" class=\"dataframe\">\n",
       "  <thead>\n",
       "    <tr style=\"text-align: right;\">\n",
       "      <th></th>\n",
       "      <th>00</th>\n",
       "      <th>000</th>\n",
       "      <th>000000</th>\n",
       "      <th>000000000</th>\n",
       "      <th>000001</th>\n",
       "      <th>000002</th>\n",
       "      <th>00000725</th>\n",
       "      <th>00000735</th>\n",
       "      <th>000008</th>\n",
       "      <th>00000830</th>\n",
       "      <th>...</th>\n",
       "      <th>龙山</th>\n",
       "      <th>龙涎</th>\n",
       "      <th>龙源</th>\n",
       "      <th>龙瑞</th>\n",
       "      <th>龙盛</th>\n",
       "      <th>龙腾泛</th>\n",
       "      <th>龙芯</th>\n",
       "      <th>龙虎榜</th>\n",
       "      <th>龙里县</th>\n",
       "      <th>龙铁</th>\n",
       "    </tr>\n",
       "  </thead>\n",
       "  <tbody>\n",
       "    <tr>\n",
       "      <th>0</th>\n",
       "      <td>1</td>\n",
       "      <td>0</td>\n",
       "      <td>0</td>\n",
       "      <td>0</td>\n",
       "      <td>0</td>\n",
       "      <td>0</td>\n",
       "      <td>0</td>\n",
       "      <td>0</td>\n",
       "      <td>0</td>\n",
       "      <td>0</td>\n",
       "      <td>...</td>\n",
       "      <td>0</td>\n",
       "      <td>0</td>\n",
       "      <td>0</td>\n",
       "      <td>0</td>\n",
       "      <td>0</td>\n",
       "      <td>0</td>\n",
       "      <td>0</td>\n",
       "      <td>0</td>\n",
       "      <td>0</td>\n",
       "      <td>0</td>\n",
       "    </tr>\n",
       "    <tr>\n",
       "      <th>1</th>\n",
       "      <td>0</td>\n",
       "      <td>0</td>\n",
       "      <td>0</td>\n",
       "      <td>0</td>\n",
       "      <td>0</td>\n",
       "      <td>0</td>\n",
       "      <td>0</td>\n",
       "      <td>0</td>\n",
       "      <td>0</td>\n",
       "      <td>0</td>\n",
       "      <td>...</td>\n",
       "      <td>0</td>\n",
       "      <td>0</td>\n",
       "      <td>0</td>\n",
       "      <td>0</td>\n",
       "      <td>0</td>\n",
       "      <td>0</td>\n",
       "      <td>0</td>\n",
       "      <td>0</td>\n",
       "      <td>0</td>\n",
       "      <td>0</td>\n",
       "    </tr>\n",
       "    <tr>\n",
       "      <th>2</th>\n",
       "      <td>0</td>\n",
       "      <td>0</td>\n",
       "      <td>0</td>\n",
       "      <td>0</td>\n",
       "      <td>0</td>\n",
       "      <td>0</td>\n",
       "      <td>0</td>\n",
       "      <td>0</td>\n",
       "      <td>0</td>\n",
       "      <td>0</td>\n",
       "      <td>...</td>\n",
       "      <td>0</td>\n",
       "      <td>0</td>\n",
       "      <td>0</td>\n",
       "      <td>0</td>\n",
       "      <td>0</td>\n",
       "      <td>0</td>\n",
       "      <td>0</td>\n",
       "      <td>0</td>\n",
       "      <td>0</td>\n",
       "      <td>0</td>\n",
       "    </tr>\n",
       "    <tr>\n",
       "      <th>3</th>\n",
       "      <td>0</td>\n",
       "      <td>0</td>\n",
       "      <td>0</td>\n",
       "      <td>0</td>\n",
       "      <td>0</td>\n",
       "      <td>0</td>\n",
       "      <td>0</td>\n",
       "      <td>0</td>\n",
       "      <td>0</td>\n",
       "      <td>0</td>\n",
       "      <td>...</td>\n",
       "      <td>0</td>\n",
       "      <td>0</td>\n",
       "      <td>0</td>\n",
       "      <td>0</td>\n",
       "      <td>0</td>\n",
       "      <td>0</td>\n",
       "      <td>0</td>\n",
       "      <td>0</td>\n",
       "      <td>0</td>\n",
       "      <td>0</td>\n",
       "    </tr>\n",
       "    <tr>\n",
       "      <th>4</th>\n",
       "      <td>0</td>\n",
       "      <td>0</td>\n",
       "      <td>0</td>\n",
       "      <td>0</td>\n",
       "      <td>0</td>\n",
       "      <td>0</td>\n",
       "      <td>0</td>\n",
       "      <td>0</td>\n",
       "      <td>0</td>\n",
       "      <td>0</td>\n",
       "      <td>...</td>\n",
       "      <td>0</td>\n",
       "      <td>0</td>\n",
       "      <td>0</td>\n",
       "      <td>0</td>\n",
       "      <td>0</td>\n",
       "      <td>0</td>\n",
       "      <td>0</td>\n",
       "      <td>0</td>\n",
       "      <td>0</td>\n",
       "      <td>0</td>\n",
       "    </tr>\n",
       "  </tbody>\n",
       "</table>\n",
       "<p>5 rows × 19422 columns</p>\n",
       "</div>"
      ],
      "text/plain": [
       "   00  000  000000  000000000  000001  000002  00000725  00000735  000008  \\\n",
       "0   1    0       0          0       0       0         0         0       0   \n",
       "1   0    0       0          0       0       0         0         0       0   \n",
       "2   0    0       0          0       0       0         0         0       0   \n",
       "3   0    0       0          0       0       0         0         0       0   \n",
       "4   0    0       0          0       0       0         0         0       0   \n",
       "\n",
       "   00000830 ...  龙山  龙涎  龙源  龙瑞  龙盛  龙腾泛  龙芯  龙虎榜  龙里县  龙铁  \n",
       "0         0 ...   0   0   0   0   0    0   0    0    0   0  \n",
       "1         0 ...   0   0   0   0   0    0   0    0    0   0  \n",
       "2         0 ...   0   0   0   0   0    0   0    0    0   0  \n",
       "3         0 ...   0   0   0   0   0    0   0    0    0   0  \n",
       "4         0 ...   0   0   0   0   0    0   0    0    0   0  \n",
       "\n",
       "[5 rows x 19422 columns]"
      ]
     },
     "execution_count": 21,
     "metadata": {},
     "output_type": "execute_result"
    }
   ],
   "source": [
    "term_matrix.head()"
   ]
  },
  {
   "cell_type": "code",
   "execution_count": 22,
   "metadata": {},
   "outputs": [
    {
     "data": {
      "text/plain": [
       "(279, 19422)"
      ]
     },
     "execution_count": 22,
     "metadata": {},
     "output_type": "execute_result"
    }
   ],
   "source": [
    "term_matrix.shape"
   ]
  },
  {
   "cell_type": "code",
   "execution_count": 23,
   "metadata": {},
   "outputs": [],
   "source": [
    "vect = CountVectorizer(stop_words=frozenset(stopwords)) #加上停用词去除功能"
   ]
  },
  {
   "cell_type": "code",
   "execution_count": 24,
   "metadata": {},
   "outputs": [],
   "source": [
    "term_matrix = pd.DataFrame(vect.fit_transform(X.cutted_comment).toarray(), columns=vect.get_feature_names())"
   ]
  },
  {
   "cell_type": "code",
   "execution_count": 25,
   "metadata": {},
   "outputs": [
    {
     "data": {
      "text/html": [
       "<div>\n",
       "<style scoped>\n",
       "    .dataframe tbody tr th:only-of-type {\n",
       "        vertical-align: middle;\n",
       "    }\n",
       "\n",
       "    .dataframe tbody tr th {\n",
       "        vertical-align: top;\n",
       "    }\n",
       "\n",
       "    .dataframe thead th {\n",
       "        text-align: right;\n",
       "    }\n",
       "</style>\n",
       "<table border=\"1\" class=\"dataframe\">\n",
       "  <thead>\n",
       "    <tr style=\"text-align: right;\">\n",
       "      <th></th>\n",
       "      <th>00</th>\n",
       "      <th>000</th>\n",
       "      <th>000000</th>\n",
       "      <th>000000000</th>\n",
       "      <th>000001</th>\n",
       "      <th>000002</th>\n",
       "      <th>00000725</th>\n",
       "      <th>00000735</th>\n",
       "      <th>000008</th>\n",
       "      <th>00000830</th>\n",
       "      <th>...</th>\n",
       "      <th>龙山</th>\n",
       "      <th>龙涎</th>\n",
       "      <th>龙源</th>\n",
       "      <th>龙瑞</th>\n",
       "      <th>龙盛</th>\n",
       "      <th>龙腾泛</th>\n",
       "      <th>龙芯</th>\n",
       "      <th>龙虎榜</th>\n",
       "      <th>龙里县</th>\n",
       "      <th>龙铁</th>\n",
       "    </tr>\n",
       "  </thead>\n",
       "  <tbody>\n",
       "    <tr>\n",
       "      <th>0</th>\n",
       "      <td>1</td>\n",
       "      <td>0</td>\n",
       "      <td>0</td>\n",
       "      <td>0</td>\n",
       "      <td>0</td>\n",
       "      <td>0</td>\n",
       "      <td>0</td>\n",
       "      <td>0</td>\n",
       "      <td>0</td>\n",
       "      <td>0</td>\n",
       "      <td>...</td>\n",
       "      <td>0</td>\n",
       "      <td>0</td>\n",
       "      <td>0</td>\n",
       "      <td>0</td>\n",
       "      <td>0</td>\n",
       "      <td>0</td>\n",
       "      <td>0</td>\n",
       "      <td>0</td>\n",
       "      <td>0</td>\n",
       "      <td>0</td>\n",
       "    </tr>\n",
       "    <tr>\n",
       "      <th>1</th>\n",
       "      <td>0</td>\n",
       "      <td>0</td>\n",
       "      <td>0</td>\n",
       "      <td>0</td>\n",
       "      <td>0</td>\n",
       "      <td>0</td>\n",
       "      <td>0</td>\n",
       "      <td>0</td>\n",
       "      <td>0</td>\n",
       "      <td>0</td>\n",
       "      <td>...</td>\n",
       "      <td>0</td>\n",
       "      <td>0</td>\n",
       "      <td>0</td>\n",
       "      <td>0</td>\n",
       "      <td>0</td>\n",
       "      <td>0</td>\n",
       "      <td>0</td>\n",
       "      <td>0</td>\n",
       "      <td>0</td>\n",
       "      <td>0</td>\n",
       "    </tr>\n",
       "    <tr>\n",
       "      <th>2</th>\n",
       "      <td>0</td>\n",
       "      <td>0</td>\n",
       "      <td>0</td>\n",
       "      <td>0</td>\n",
       "      <td>0</td>\n",
       "      <td>0</td>\n",
       "      <td>0</td>\n",
       "      <td>0</td>\n",
       "      <td>0</td>\n",
       "      <td>0</td>\n",
       "      <td>...</td>\n",
       "      <td>0</td>\n",
       "      <td>0</td>\n",
       "      <td>0</td>\n",
       "      <td>0</td>\n",
       "      <td>0</td>\n",
       "      <td>0</td>\n",
       "      <td>0</td>\n",
       "      <td>0</td>\n",
       "      <td>0</td>\n",
       "      <td>0</td>\n",
       "    </tr>\n",
       "    <tr>\n",
       "      <th>3</th>\n",
       "      <td>0</td>\n",
       "      <td>0</td>\n",
       "      <td>0</td>\n",
       "      <td>0</td>\n",
       "      <td>0</td>\n",
       "      <td>0</td>\n",
       "      <td>0</td>\n",
       "      <td>0</td>\n",
       "      <td>0</td>\n",
       "      <td>0</td>\n",
       "      <td>...</td>\n",
       "      <td>0</td>\n",
       "      <td>0</td>\n",
       "      <td>0</td>\n",
       "      <td>0</td>\n",
       "      <td>0</td>\n",
       "      <td>0</td>\n",
       "      <td>0</td>\n",
       "      <td>0</td>\n",
       "      <td>0</td>\n",
       "      <td>0</td>\n",
       "    </tr>\n",
       "    <tr>\n",
       "      <th>4</th>\n",
       "      <td>0</td>\n",
       "      <td>0</td>\n",
       "      <td>0</td>\n",
       "      <td>0</td>\n",
       "      <td>0</td>\n",
       "      <td>0</td>\n",
       "      <td>0</td>\n",
       "      <td>0</td>\n",
       "      <td>0</td>\n",
       "      <td>0</td>\n",
       "      <td>...</td>\n",
       "      <td>0</td>\n",
       "      <td>0</td>\n",
       "      <td>0</td>\n",
       "      <td>0</td>\n",
       "      <td>0</td>\n",
       "      <td>0</td>\n",
       "      <td>0</td>\n",
       "      <td>0</td>\n",
       "      <td>0</td>\n",
       "      <td>0</td>\n",
       "    </tr>\n",
       "  </tbody>\n",
       "</table>\n",
       "<p>5 rows × 18838 columns</p>\n",
       "</div>"
      ],
      "text/plain": [
       "   00  000  000000  000000000  000001  000002  00000725  00000735  000008  \\\n",
       "0   1    0       0          0       0       0         0         0       0   \n",
       "1   0    0       0          0       0       0         0         0       0   \n",
       "2   0    0       0          0       0       0         0         0       0   \n",
       "3   0    0       0          0       0       0         0         0       0   \n",
       "4   0    0       0          0       0       0         0         0       0   \n",
       "\n",
       "   00000830 ...  龙山  龙涎  龙源  龙瑞  龙盛  龙腾泛  龙芯  龙虎榜  龙里县  龙铁  \n",
       "0         0 ...   0   0   0   0   0    0   0    0    0   0  \n",
       "1         0 ...   0   0   0   0   0    0   0    0    0   0  \n",
       "2         0 ...   0   0   0   0   0    0   0    0    0   0  \n",
       "3         0 ...   0   0   0   0   0    0   0    0    0   0  \n",
       "4         0 ...   0   0   0   0   0    0   0    0    0   0  \n",
       "\n",
       "[5 rows x 18838 columns]"
      ]
     },
     "execution_count": 25,
     "metadata": {},
     "output_type": "execute_result"
    }
   ],
   "source": [
    "term_matrix.head()"
   ]
  },
  {
   "cell_type": "code",
   "execution_count": 26,
   "metadata": {},
   "outputs": [],
   "source": [
    "max_df = 0.8 # 在超过这一比例的文档中出现的关键词（过于平凡），去除掉。\n",
    "min_df = 3 # 在地狱这一数量的文档中出现的关键词（过于独特），去除掉。"
   ]
  },
  {
   "cell_type": "code",
   "execution_count": 27,
   "metadata": {},
   "outputs": [],
   "source": [
    "vect = CountVectorizer(max_df=max_df,\n",
    "                      min_df=min_df,\n",
    "                      token_pattern=u'(?u)\\\\b[^\\\\d\\\\W]\\\\w+\\\\b',\n",
    "                      stop_words=frozenset(stopwords))"
   ]
  },
  {
   "cell_type": "code",
   "execution_count": 28,
   "metadata": {},
   "outputs": [],
   "source": [
    "term_matrix = pd.DataFrame(vect.fit_transform(X.cutted_comment).toarray(), columns=vect.get_feature_names())"
   ]
  },
  {
   "cell_type": "code",
   "execution_count": 29,
   "metadata": {},
   "outputs": [
    {
     "data": {
      "text/html": [
       "<div>\n",
       "<style scoped>\n",
       "    .dataframe tbody tr th:only-of-type {\n",
       "        vertical-align: middle;\n",
       "    }\n",
       "\n",
       "    .dataframe tbody tr th {\n",
       "        vertical-align: top;\n",
       "    }\n",
       "\n",
       "    .dataframe thead th {\n",
       "        text-align: right;\n",
       "    }\n",
       "</style>\n",
       "<table border=\"1\" class=\"dataframe\">\n",
       "  <thead>\n",
       "    <tr style=\"text-align: right;\">\n",
       "      <th></th>\n",
       "      <th>a0</th>\n",
       "      <th>a26</th>\n",
       "      <th>a50</th>\n",
       "      <th>ai</th>\n",
       "      <th>app</th>\n",
       "      <th>atl</th>\n",
       "      <th>a股</th>\n",
       "      <th>bat</th>\n",
       "      <th>bmtj</th>\n",
       "      <th>catl</th>\n",
       "      <th>...</th>\n",
       "      <th>黑猫</th>\n",
       "      <th>默认页</th>\n",
       "      <th>鼎力</th>\n",
       "      <th>鼎胜</th>\n",
       "      <th>鼓励</th>\n",
       "      <th>龙头</th>\n",
       "      <th>龙头企业</th>\n",
       "      <th>龙头股</th>\n",
       "      <th>龙盛</th>\n",
       "      <th>龙虎榜</th>\n",
       "    </tr>\n",
       "  </thead>\n",
       "  <tbody>\n",
       "    <tr>\n",
       "      <th>0</th>\n",
       "      <td>0</td>\n",
       "      <td>0</td>\n",
       "      <td>0</td>\n",
       "      <td>0</td>\n",
       "      <td>0</td>\n",
       "      <td>0</td>\n",
       "      <td>0</td>\n",
       "      <td>0</td>\n",
       "      <td>0</td>\n",
       "      <td>0</td>\n",
       "      <td>...</td>\n",
       "      <td>0</td>\n",
       "      <td>0</td>\n",
       "      <td>0</td>\n",
       "      <td>0</td>\n",
       "      <td>0</td>\n",
       "      <td>0</td>\n",
       "      <td>0</td>\n",
       "      <td>0</td>\n",
       "      <td>0</td>\n",
       "      <td>0</td>\n",
       "    </tr>\n",
       "    <tr>\n",
       "      <th>1</th>\n",
       "      <td>0</td>\n",
       "      <td>0</td>\n",
       "      <td>0</td>\n",
       "      <td>0</td>\n",
       "      <td>0</td>\n",
       "      <td>0</td>\n",
       "      <td>0</td>\n",
       "      <td>0</td>\n",
       "      <td>0</td>\n",
       "      <td>0</td>\n",
       "      <td>...</td>\n",
       "      <td>0</td>\n",
       "      <td>0</td>\n",
       "      <td>0</td>\n",
       "      <td>0</td>\n",
       "      <td>0</td>\n",
       "      <td>1</td>\n",
       "      <td>0</td>\n",
       "      <td>0</td>\n",
       "      <td>0</td>\n",
       "      <td>0</td>\n",
       "    </tr>\n",
       "    <tr>\n",
       "      <th>2</th>\n",
       "      <td>0</td>\n",
       "      <td>0</td>\n",
       "      <td>0</td>\n",
       "      <td>0</td>\n",
       "      <td>0</td>\n",
       "      <td>0</td>\n",
       "      <td>5</td>\n",
       "      <td>0</td>\n",
       "      <td>0</td>\n",
       "      <td>0</td>\n",
       "      <td>...</td>\n",
       "      <td>0</td>\n",
       "      <td>0</td>\n",
       "      <td>0</td>\n",
       "      <td>0</td>\n",
       "      <td>0</td>\n",
       "      <td>0</td>\n",
       "      <td>0</td>\n",
       "      <td>0</td>\n",
       "      <td>0</td>\n",
       "      <td>0</td>\n",
       "    </tr>\n",
       "    <tr>\n",
       "      <th>3</th>\n",
       "      <td>0</td>\n",
       "      <td>0</td>\n",
       "      <td>0</td>\n",
       "      <td>0</td>\n",
       "      <td>0</td>\n",
       "      <td>0</td>\n",
       "      <td>0</td>\n",
       "      <td>0</td>\n",
       "      <td>0</td>\n",
       "      <td>0</td>\n",
       "      <td>...</td>\n",
       "      <td>0</td>\n",
       "      <td>0</td>\n",
       "      <td>0</td>\n",
       "      <td>0</td>\n",
       "      <td>0</td>\n",
       "      <td>0</td>\n",
       "      <td>0</td>\n",
       "      <td>0</td>\n",
       "      <td>0</td>\n",
       "      <td>0</td>\n",
       "    </tr>\n",
       "    <tr>\n",
       "      <th>4</th>\n",
       "      <td>0</td>\n",
       "      <td>0</td>\n",
       "      <td>0</td>\n",
       "      <td>0</td>\n",
       "      <td>0</td>\n",
       "      <td>0</td>\n",
       "      <td>1</td>\n",
       "      <td>0</td>\n",
       "      <td>0</td>\n",
       "      <td>0</td>\n",
       "      <td>...</td>\n",
       "      <td>0</td>\n",
       "      <td>0</td>\n",
       "      <td>0</td>\n",
       "      <td>0</td>\n",
       "      <td>0</td>\n",
       "      <td>0</td>\n",
       "      <td>0</td>\n",
       "      <td>0</td>\n",
       "      <td>0</td>\n",
       "      <td>0</td>\n",
       "    </tr>\n",
       "  </tbody>\n",
       "</table>\n",
       "<p>5 rows × 4518 columns</p>\n",
       "</div>"
      ],
      "text/plain": [
       "   a0  a26  a50  ai  app  atl  a股  bat  bmtj  catl ...   黑猫  默认页  鼎力  鼎胜  鼓励  \\\n",
       "0   0    0    0   0    0    0   0    0     0     0 ...    0    0   0   0   0   \n",
       "1   0    0    0   0    0    0   0    0     0     0 ...    0    0   0   0   0   \n",
       "2   0    0    0   0    0    0   5    0     0     0 ...    0    0   0   0   0   \n",
       "3   0    0    0   0    0    0   0    0     0     0 ...    0    0   0   0   0   \n",
       "4   0    0    0   0    0    0   1    0     0     0 ...    0    0   0   0   0   \n",
       "\n",
       "   龙头  龙头企业  龙头股  龙盛  龙虎榜  \n",
       "0   0     0    0   0    0  \n",
       "1   1     0    0   0    0  \n",
       "2   0     0    0   0    0  \n",
       "3   0     0    0   0    0  \n",
       "4   0     0    0   0    0  \n",
       "\n",
       "[5 rows x 4518 columns]"
      ]
     },
     "execution_count": 29,
     "metadata": {},
     "output_type": "execute_result"
    }
   ],
   "source": [
    "term_matrix.head()"
   ]
  },
  {
   "cell_type": "code",
   "execution_count": 30,
   "metadata": {},
   "outputs": [],
   "source": [
    "n_features = 1000"
   ]
  },
  {
   "cell_type": "code",
   "execution_count": 31,
   "metadata": {},
   "outputs": [],
   "source": [
    "tf_vectorizer = CountVectorizer(strip_accents = 'unicode',    #此处的tf-vectorizer与之前的vect一样，都是CountVectorizer的实例，参数不同而已\n",
    "                               max_features=n_features,\n",
    "                               max_df=max_df,\n",
    "                               min_df=min_df,\n",
    "                               token_pattern=u'(?u)\\\\b[^\\\\d\\\\W]\\\\w+\\\\b',\n",
    "                               stop_words=frozenset(stopwords))\n",
    "tf = tf_vectorizer.fit_transform(X.cutted_comment)    #此处的tf与之前的term_matrix一样，都是数据框"
   ]
  },
  {
   "cell_type": "code",
   "execution_count": 32,
   "metadata": {},
   "outputs": [],
   "source": [
    "from sklearn.decomposition import LatentDirichletAllocation"
   ]
  },
  {
   "cell_type": "code",
   "execution_count": 33,
   "metadata": {},
   "outputs": [],
   "source": [
    "n_topics = 5\n",
    "lda = LatentDirichletAllocation(n_topics=n_topics,\n",
    "                               max_iter=50,\n",
    "                               learning_method='online',\n",
    "                               learning_offset=50.,\n",
    "                               random_state=0)"
   ]
  },
  {
   "cell_type": "code",
   "execution_count": 34,
   "metadata": {},
   "outputs": [
    {
     "name": "stderr",
     "output_type": "stream",
     "text": [
      "D:\\Anaconda3\\lib\\site-packages\\sklearn\\decomposition\\online_lda.py:294: DeprecationWarning: n_topics has been renamed to n_components in version 0.19 and will be removed in 0.21\n",
      "  DeprecationWarning)\n"
     ]
    },
    {
     "data": {
      "text/plain": [
       "LatentDirichletAllocation(batch_size=128, doc_topic_prior=None,\n",
       "             evaluate_every=-1, learning_decay=0.7,\n",
       "             learning_method='online', learning_offset=50.0,\n",
       "             max_doc_update_iter=100, max_iter=50, mean_change_tol=0.001,\n",
       "             n_components=10, n_jobs=1, n_topics=5, perp_tol=0.1,\n",
       "             random_state=0, topic_word_prior=None,\n",
       "             total_samples=1000000.0, verbose=0)"
      ]
     },
     "execution_count": 34,
     "metadata": {},
     "output_type": "execute_result"
    }
   ],
   "source": [
    "lda.fit(tf)"
   ]
  },
  {
   "cell_type": "code",
   "execution_count": 35,
   "metadata": {},
   "outputs": [],
   "source": [
    "def print_top_words(model, feature_names, n_top_words):\n",
    "    for topic_idx, topic in enumerate(model.components_):\n",
    "        print('Topic #%d:' % topic_idx)\n",
    "        print(' '.join([feature_names[i]\n",
    "                      for i in topic.argsort()[:-n_top_words -1:-1]]))\n",
    "    print()"
   ]
  },
  {
   "cell_type": "code",
   "execution_count": 36,
   "metadata": {},
   "outputs": [],
   "source": [
    "n_top_words = 20"
   ]
  },
  {
   "cell_type": "code",
   "execution_count": 37,
   "metadata": {},
   "outputs": [
    {
     "name": "stdout",
     "output_type": "stream",
     "text": [
      "Topic #0:\n",
      "股份 富士康 发行 披露 投资者 战略 年度 投资 工业 科技 公告 信息 金额 市场 资金 上市公司 上市 项目 证券 配售\n",
      "Topic #1:\n",
      "银行 同比 增长 减少 企业 增加 净利润 员工 项目 增速 营收 调控 下降 业务 股份 城市 百分点 上市 资产 房地产\n",
      "Topic #2:\n",
      "企业 流动性 货币政策 资金 降准 mlf 中国 融资 外汇 我国 央行 风险 金融 经济 人民币 煤炭 金融机构 市场 上市公司 工具\n",
      "Topic #3:\n",
      "个股 基金 市场 购买 机构 资金 调研 板块 业绩 行业 a股 股份 开户 数据 电子 投资 中国 科技 涨幅 证券\n",
      "Topic #4:\n",
      "中国 发展 市场 企业 产品 技术 领域 业务 平安 投资 科技 合作 行业 汽车 集团 全球 上海 平台 服务 提升\n",
      "\n"
     ]
    }
   ],
   "source": [
    "tf_feature_names = tf_vectorizer.get_feature_names()\n",
    "print_top_words(lda, tf_feature_names, n_top_words)"
   ]
  },
  {
   "cell_type": "code",
   "execution_count": 38,
   "metadata": {},
   "outputs": [
    {
     "name": "stderr",
     "output_type": "stream",
     "text": [
      "D:\\Anaconda3\\lib\\site-packages\\pyLDAvis\\_prepare.py:387: DeprecationWarning: \n",
      ".ix is deprecated. Please use\n",
      ".loc for label based indexing or\n",
      ".iloc for positional indexing\n",
      "\n",
      "See the documentation here:\n",
      "http://pandas.pydata.org/pandas-docs/stable/indexing.html#ix-indexer-is-deprecated\n",
      "  topic_term_dists = topic_term_dists.ix[topic_order]\n"
     ]
    },
    {
     "data": {
      "text/html": [
       "\n",
       "<link rel=\"stylesheet\" type=\"text/css\" href=\"https://cdn.rawgit.com/bmabey/pyLDAvis/files/ldavis.v1.0.0.css\">\n",
       "\n",
       "\n",
       "<div id=\"ldavis_el81728404116601042879375943\"></div>\n",
       "<script type=\"text/javascript\">\n",
       "\n",
       "var ldavis_el81728404116601042879375943_data = {\"mdsDat\": {\"Freq\": [26.364642715461166, 24.246582787623066, 23.644551543381414, 13.407618411875493, 12.336604541658863], \"cluster\": [1, 1, 1, 1, 1], \"topics\": [1, 2, 3, 4, 5], \"x\": [0.012009984016276766, -0.13635937160634543, -0.1749187238269058, 0.20131690487512138, 0.09795120654185313], \"y\": [-0.024086924631825032, 0.10857367446842735, -0.1241522918748846, -0.10165390184384508, 0.14131944388212728]}, \"tinfo\": {\"Category\": [\"Default\", \"Default\", \"Default\", \"Default\", \"Default\", \"Default\", \"Default\", \"Default\", \"Default\", \"Default\", \"Default\", \"Default\", \"Default\", \"Default\", \"Default\", \"Default\", \"Default\", \"Default\", \"Default\", \"Default\", \"Default\", \"Default\", \"Default\", \"Default\", \"Default\", \"Default\", \"Default\", \"Default\", \"Default\", \"Default\", \"Topic1\", \"Topic1\", \"Topic1\", \"Topic1\", \"Topic1\", \"Topic1\", \"Topic1\", \"Topic1\", \"Topic1\", \"Topic1\", \"Topic1\", \"Topic1\", \"Topic1\", \"Topic1\", \"Topic1\", \"Topic1\", \"Topic1\", \"Topic1\", \"Topic1\", \"Topic1\", \"Topic1\", \"Topic1\", \"Topic1\", \"Topic1\", \"Topic1\", \"Topic1\", \"Topic1\", \"Topic1\", \"Topic1\", \"Topic1\", \"Topic1\", \"Topic1\", \"Topic1\", \"Topic1\", \"Topic1\", \"Topic1\", \"Topic1\", \"Topic1\", \"Topic1\", \"Topic1\", \"Topic1\", \"Topic1\", \"Topic1\", \"Topic1\", \"Topic1\", \"Topic1\", \"Topic1\", \"Topic1\", \"Topic1\", \"Topic1\", \"Topic1\", \"Topic1\", \"Topic1\", \"Topic1\", \"Topic1\", \"Topic1\", \"Topic1\", \"Topic1\", \"Topic1\", \"Topic1\", \"Topic1\", \"Topic1\", \"Topic1\", \"Topic1\", \"Topic1\", \"Topic1\", \"Topic1\", \"Topic2\", \"Topic2\", \"Topic2\", \"Topic2\", \"Topic2\", \"Topic2\", \"Topic2\", \"Topic2\", \"Topic2\", \"Topic2\", \"Topic2\", \"Topic2\", \"Topic2\", \"Topic2\", \"Topic2\", \"Topic2\", \"Topic2\", \"Topic2\", \"Topic2\", \"Topic2\", \"Topic2\", \"Topic2\", \"Topic2\", \"Topic2\", \"Topic2\", \"Topic2\", \"Topic2\", \"Topic2\", \"Topic2\", \"Topic2\", \"Topic2\", \"Topic2\", \"Topic2\", \"Topic2\", \"Topic2\", \"Topic2\", \"Topic2\", \"Topic2\", \"Topic2\", \"Topic2\", \"Topic2\", \"Topic2\", \"Topic2\", \"Topic2\", \"Topic2\", \"Topic2\", \"Topic2\", \"Topic2\", \"Topic2\", \"Topic2\", \"Topic2\", \"Topic2\", \"Topic2\", \"Topic2\", \"Topic2\", \"Topic2\", \"Topic2\", \"Topic2\", \"Topic2\", \"Topic2\", \"Topic2\", \"Topic2\", \"Topic2\", \"Topic2\", \"Topic2\", \"Topic3\", \"Topic3\", \"Topic3\", \"Topic3\", \"Topic3\", \"Topic3\", \"Topic3\", \"Topic3\", \"Topic3\", \"Topic3\", \"Topic3\", \"Topic3\", \"Topic3\", \"Topic3\", \"Topic3\", \"Topic3\", \"Topic3\", \"Topic3\", \"Topic3\", \"Topic3\", \"Topic3\", \"Topic3\", \"Topic3\", \"Topic3\", \"Topic3\", \"Topic3\", \"Topic3\", \"Topic3\", \"Topic3\", \"Topic3\", \"Topic3\", \"Topic3\", \"Topic3\", \"Topic3\", \"Topic3\", \"Topic3\", \"Topic3\", \"Topic3\", \"Topic3\", \"Topic3\", \"Topic3\", \"Topic3\", \"Topic3\", \"Topic3\", \"Topic3\", \"Topic3\", \"Topic3\", \"Topic3\", \"Topic3\", \"Topic3\", \"Topic3\", \"Topic3\", \"Topic3\", \"Topic3\", \"Topic3\", \"Topic3\", \"Topic3\", \"Topic3\", \"Topic3\", \"Topic3\", \"Topic4\", \"Topic4\", \"Topic4\", \"Topic4\", \"Topic4\", \"Topic4\", \"Topic4\", \"Topic4\", \"Topic4\", \"Topic4\", \"Topic4\", \"Topic4\", \"Topic4\", \"Topic4\", \"Topic4\", \"Topic4\", \"Topic4\", \"Topic4\", \"Topic4\", \"Topic4\", \"Topic4\", \"Topic4\", \"Topic4\", \"Topic4\", \"Topic4\", \"Topic4\", \"Topic4\", \"Topic4\", \"Topic4\", \"Topic4\", \"Topic4\", \"Topic4\", \"Topic4\", \"Topic4\", \"Topic4\", \"Topic4\", \"Topic4\", \"Topic4\", \"Topic4\", \"Topic4\", \"Topic4\", \"Topic4\", \"Topic4\", \"Topic4\", \"Topic4\", \"Topic4\", \"Topic4\", \"Topic4\", \"Topic4\", \"Topic4\", \"Topic4\", \"Topic4\", \"Topic5\", \"Topic5\", \"Topic5\", \"Topic5\", \"Topic5\", \"Topic5\", \"Topic5\", \"Topic5\", \"Topic5\", \"Topic5\", \"Topic5\", \"Topic5\", \"Topic5\", \"Topic5\", \"Topic5\", \"Topic5\", \"Topic5\", \"Topic5\", \"Topic5\", \"Topic5\", \"Topic5\", \"Topic5\", \"Topic5\", \"Topic5\", \"Topic5\", \"Topic5\", \"Topic5\", \"Topic5\", \"Topic5\", \"Topic5\", \"Topic5\", \"Topic5\", \"Topic5\", \"Topic5\", \"Topic5\", \"Topic5\", \"Topic5\", \"Topic5\", \"Topic5\", \"Topic5\", \"Topic5\", \"Topic5\", \"Topic5\", \"Topic5\", \"Topic5\", \"Topic5\", \"Topic5\", \"Topic5\", \"Topic5\", \"Topic5\", \"Topic5\", \"Topic5\", \"Topic5\", \"Topic5\", \"Topic5\", \"Topic5\"], \"Freq\": [427.0, 436.0, 441.0, 391.0, 466.0, 779.0, 351.0, 176.0, 168.0, 380.0, 638.0, 288.0, 189.0, 228.0, 308.0, 121.0, 117.0, 214.0, 279.0, 157.0, 100.0, 519.0, 351.0, 95.0, 215.0, 283.0, 131.0, 171.0, 147.0, 103.0, 93.91663727832189, 64.8210449574969, 74.65605759812732, 63.59192199440984, 45.765329723935146, 51.64088432501731, 38.588212305853126, 68.33176721436594, 85.1767616911092, 32.458275969034446, 102.42611857662119, 27.502367837313177, 25.54431833439001, 25.22245056272573, 27.30484718113623, 22.1676572691754, 21.15141999201173, 31.847029973313223, 30.770476199479585, 32.49902711707405, 24.39595032091311, 22.694503663945703, 32.50388013928902, 27.158629486064623, 26.548377325080228, 26.4572971035644, 20.824457690816054, 25.29553321783784, 23.438548480370088, 27.237926449212733, 80.86368715519575, 171.96016254194808, 93.32077459905925, 67.31600739692115, 58.975898300195176, 173.55340466939884, 142.0844152820916, 168.11703866924023, 245.1359048562921, 176.71378678254467, 43.22742519112271, 144.35478332210997, 54.640930509467466, 57.17789077489148, 431.76678186194823, 114.78653942740871, 47.13970103484066, 104.23167582355617, 85.41467024427118, 70.45424869242079, 73.22401954155548, 96.9406361989237, 99.76317282395645, 168.4159660100461, 103.34763607315156, 114.08100273770036, 136.23029838360677, 102.81987202384236, 185.48655240481386, 207.32485928669615, 148.96006073987917, 153.50921095772884, 142.21083907627525, 90.88767326876732, 93.55994895561183, 90.40472841878402, 91.26735931060958, 156.79929025451804, 90.97328325773474, 70.2767438232874, 54.072993846792194, 51.72339305182374, 34.19522134084872, 31.152927521040013, 30.68173684788311, 30.984745564907232, 27.224534202735406, 52.239790318688215, 26.85984498530285, 26.837690380417055, 23.304527162285506, 52.24586905748487, 23.34787536623475, 23.357157448905667, 122.2080590923727, 22.316750091286945, 81.81389461113936, 19.346687431759193, 17.378397986474063, 218.26879385001277, 108.87297017512442, 413.66773584878536, 14.660113983335277, 13.484139717552774, 69.31985934131083, 13.514378765566827, 14.113010535882573, 65.91740871219952, 263.36344901464656, 33.80798371741796, 72.1245196959435, 322.29058652061957, 108.43136020302327, 81.71674405093441, 212.14761004979687, 51.68878376749619, 85.4199059834573, 123.45482552202867, 82.09569563363027, 128.95608241900254, 105.83951431223788, 221.93326562478651, 186.8244024963957, 119.88157843966644, 123.633714431672, 145.98892238660827, 174.40738576557652, 104.77866252369827, 298.6399263185038, 219.3868391101125, 155.61968532378114, 176.7354195463018, 101.14365169970091, 91.61398754491879, 141.37336570813903, 162.22712907117622, 124.26481510838181, 134.3118115536494, 108.3406093710024, 140.3873663478113, 116.62001542050552, 117.59833463391229, 130.34937026497562, 124.38455365232986, 85.30892687185435, 67.90965178827253, 69.07826694581209, 53.751804691941686, 42.50626682642939, 52.794445416037696, 109.34934779404914, 31.96664557371759, 31.181798035236493, 49.410174203399535, 30.041409323012704, 30.170739077467903, 27.9547787048097, 28.883886633762504, 23.892759406079367, 39.51148473961542, 30.395446335734867, 20.712120111445863, 20.514189073886033, 20.02742621647597, 57.624696921726326, 17.955664448957325, 17.474365679832868, 405.65905954714293, 26.07587818005538, 84.98925817854736, 83.73243995325387, 55.37167660940125, 201.12152832775445, 56.588060223642934, 319.1062133741349, 111.23611379221659, 97.7158447158865, 155.72244359336355, 163.17668037596806, 266.3471095339017, 121.8596637149174, 50.20284432134232, 49.88584666738196, 210.41480556119996, 507.735124302066, 244.46476835102126, 77.39436613270396, 162.93610784737413, 174.30294695749353, 96.01697774925006, 104.09121346615217, 140.61188664699964, 135.51562296421312, 121.72481623960714, 172.26802064545424, 179.13053624585578, 114.79585771154343, 143.45428916940702, 132.79959317792023, 149.79617807947935, 154.40575933899893, 114.43436515116927, 175.55758109886233, 167.27322331643174, 120.54278665192876, 116.73740183477716, 100.10632490844596, 94.40369043059184, 71.09530095917161, 56.20608294184559, 54.88188738674093, 56.01970272290919, 53.55479566433874, 55.836335839305825, 51.22323790884543, 36.74596624120536, 86.2508578759236, 26.195865304586135, 58.33252706237338, 20.12891196127814, 52.779382278716994, 15.159358550367875, 21.337854642832138, 74.72910711790516, 10.999844808379292, 10.767109533638203, 10.339156980928191, 70.89586387876413, 10.237939434514647, 42.67211430638092, 24.251783857791573, 68.09930508135234, 82.53520468407481, 35.105179001991225, 37.59082241181943, 89.7989536753802, 103.94222077062219, 35.751954741571076, 64.79535659280685, 46.281924519416485, 95.35530152463349, 206.4426261343508, 92.08936404894493, 91.5071917425458, 61.13384274795891, 89.80202770339449, 123.34342029706626, 108.40304174100145, 66.96365364503306, 77.98150192824416, 73.74017477113703, 79.13767721110624, 65.83723697221457, 58.5708368467725, 59.4640351136759, 60.04253537380345, 46.93811908460567, 31.31614648699159, 31.762010806589625, 27.339085144910914, 23.261878058728012, 78.07924454419518, 51.69604449580594, 17.987363776404507, 16.949325706209855, 14.528283357153414, 12.530982001119707, 38.053578795230855, 10.61895290189056, 12.80914255290591, 72.5440119639892, 32.715594937989366, 43.53079750293869, 11.664033558586263, 21.239063616587398, 32.6997648181847, 24.84548585694643, 88.82288808666196, 61.706825934629116, 149.600380469104, 27.274177249925405, 22.400881195878373, 38.01631563135389, 43.22322103140773, 274.17785382460204, 242.52042738816252, 41.62600745141062, 64.2209206724648, 232.6082724679869, 70.8600281054262, 40.00817745677321, 97.0315680261343, 79.4816760338007, 65.74192531816541, 94.6506361433987, 41.99359507666701, 87.81528380141958, 131.43292506382105, 62.54323608555629, 45.06026059588391, 55.263946594409816, 70.21253158785125, 63.74198551948607, 49.080489577793585, 67.81904513465673, 60.22945953602572, 54.241143314512136, 60.05324398543746, 51.338486208913366, 49.79994326466495], \"Term\": [\"\\u5bcc\\u58eb\\u5eb7\", \"\\u4e2a\\u80a1\", \"\\u94f6\\u884c\", \"\\u540c\\u6bd4\", \"\\u589e\\u957f\", \"\\u80a1\\u4efd\", \"\\u53d1\\u884c\", \"\\u6d41\\u52a8\\u6027\", \"\\u8d27\\u5e01\\u653f\\u7b56\", \"\\u57fa\\u91d1\", \"\\u4f01\\u4e1a\", \"\\u8d2d\\u4e70\", \"\\u51cf\\u5c11\", \"\\u8c03\\u7814\", \"\\u62ab\\u9732\", \"\\u964d\\u51c6\", \"mlf\", \"\\u5e74\\u5ea6\", \"\\u6218\\u7565\", \"\\u5f00\\u6237\", \"\\u5916\\u6c47\", \"\\u8d44\\u91d1\", \"\\u6295\\u8d44\\u8005\", \"\\u592e\\u884c\", \"\\u589e\\u52a0\", \"\\u677f\\u5757\", \"\\u914d\\u552e\", \"\\u91d1\\u989d\", \"\\u878d\\u8d44\", \"\\u5458\\u5de5\", \"\\u6296\\u97f3\", \"\\u89c6\\u9891\", \"\\u533a\\u5757\", \"\\u878d\\u5408\", \"\\u77f3\\u58a8\", \"\\u519b\\u6c11\", \"\\u4fe1\\u606f\\u5316\", \"\\u817e\\u8baf\", \"\\u7279\\u65af\\u62c9\", \"\\u7528\\u6237\", \"\\u54c1\\u724c\", \"\\u4e1c\\u98ce\\u6c7d\\u8f66\", \"\\u4e0b\\u8f7d\\u91cf\", \"\\u5934\\u6761\", \"\\u6749\\u6749\", \"\\u4e58\\u7528\\u8f66\", \"\\u6253\\u9020\", \"\\u53cc\\u65b9\", \"\\u95e8\\u5e97\", \"\\u96f6\\u552e\", \"\\u96f6\\u90e8\\u4ef6\", \"\\u9752\\u5c9b\", \"\\u89c4\\u5212\", \"\\u8425\\u9500\", \"\\u98de\\u673a\", \"\\u8865\\u8d34\", \"\\u4e2d\\u5174\", \"\\u4f9b\\u5e94\\u5546\", \"\\u6d4b\\u8bd5\", \"\\u56fd\\u4ea7\", \"\\u667a\\u6167\", \"\\u9886\\u57df\", \"\\u5e94\\u7528\", \"\\u65b0\\u80fd\\u6e90\", \"\\u7cfb\\u7edf\", \"\\u6280\\u672f\", \"\\u6c7d\\u8f66\", \"\\u5e73\\u5b89\", \"\\u53d1\\u5c55\", \"\\u4ea7\\u54c1\", \"\\u5efa\\u7acb\", \"\\u5408\\u4f5c\", \"\\u65d7\\u4e0b\", \"\\u8f6f\\u4ef6\", \"\\u4e2d\\u56fd\", \"\\u5168\\u7403\", \"it\", \"\\u5e73\\u53f0\", \"\\u56fd\\u9645\", \"\\u63d0\\u4f9b\", \"\\u4f18\\u52bf\", \"\\u56fd\\u5bb6\", \"\\u521b\\u65b0\", \"\\u4e1a\\u52a1\", \"\\u670d\\u52a1\", \"\\u4e0a\\u6d77\", \"\\u96c6\\u56e2\", \"\\u63d0\\u5347\", \"\\u4f01\\u4e1a\", \"\\u5e02\\u573a\", \"\\u79d1\\u6280\", \"\\u6295\\u8d44\", \"\\u884c\\u4e1a\", \"\\u56fd\\u5185\", \"\\u6709\\u9650\\u516c\\u53f8\", \"\\u7ba1\\u7406\", \"\\u589e\\u957f\", \"\\u5f00\\u6237\", \"qfii\", \"msci\", \"\\u91cd\\u4ed3\", \"\\u516c\\u52df\", \"\\u84dd\\u7b79\", \"\\u5bb6\\u6570\", \"\\u80a1\\u901a\", \"\\u9884\\u544a\", \"\\u5317\\u5411\", \"\\u6301\\u4ed3\", \"\\u98df\\u54c1\\u996e\\u6599\", \"\\u5317\\u4e0a\", \"\\u767d\\u9a6c\\u80a1\", \"\\u5927\\u76d8\", \"\\u504f\\u597d\", \"\\u6469\\u6839\", \"\\u79c1\\u52df\", \"\\u767d\\u9152\", \"\\u4e0a\\u5468\", \"\\u767d\\u9a6c\", \"\\u5927\\u901a\", \"\\u8c03\\u7814\", \"\\u6df7\\u5408\", \"\\u4e2a\\u80a1\", \"\\u84dd\\u7b79\\u80a1\", \"\\u5165\\u6469\", \"\\u589e\\u6301\", \"\\u77ed\\u7ebf\", \"\\u54c1\\u79cd\", \"\\u4e8c\\u5b63\\u5ea6\", \"\\u8d2d\\u4e70\", \"\\u9707\\u8361\", \"\\u914d\\u7f6e\", \"\\u57fa\\u91d1\", \"\\u6307\\u6570\", \"\\u770b\\u597d\", \"\\u677f\\u5757\", \"\\u4e0b\\u8dcc\", \"\\u521b\\u4e1a\\u677f\", \"\\u4f30\\u503c\", \"\\u6982\\u5ff5\", \"\\u6da8\\u5e45\", \"\\u5916\\u8d44\", \"\\u673a\\u6784\", \"\\u4e1a\\u7ee9\", \"\\u8bc1\\u5238\\u65e5\\u62a5\", \"\\u4e00\\u5b63\\u5ea6\", \"\\u7535\\u5b50\", \"a\\u80a1\", \"\\u4e0a\\u6da8\", \"\\u5e02\\u573a\", \"\\u8d44\\u91d1\", \"\\u6570\\u636e\", \"\\u884c\\u4e1a\", \"\\u72ec\\u89d2\\u517d\", \"\\u6982\\u5ff5\\u80a1\", \"\\u6295\\u8d44\", \"\\u80a1\\u4efd\", \"\\u8bc1\\u5238\", \"\\u79d1\\u6280\", \"\\u51c0\\u5229\\u6da6\", \"\\u4e2d\\u56fd\", \"\\u540c\\u6bd4\", \"\\u589e\\u957f\", \"\\u914d\\u552e\", \"\\u80a1\\u4e1c\\u5927\\u4f1a\", \"\\u8f6c\\u589e\", \"\\u5bcc\\u8054\", \"\\u62db\\u80a1\", \"\\u52df\\u8d44\", \"\\u62db\\u80a1\\u4e66\", \"\\u65b0\\u80a1\", \"\\u5206\\u7ea2\", \"\\u4fdd\\u8350\", \"\\u8d44\\u91d1\\u989d\", \"\\u8bf4\\u660e\\u4e66\", \"\\u671f\\u4e3a\", \"\\u8be2\\u4ef7\", \"\\u8fd0\\u7b97\", \"\\u9f99\\u864e\\u699c\", \"\\u56de\\u62e8\", \"\\u80a1\\u672c\", \"\\u53d1\\u884c\\u4eba\", \"\\u7533\\u62a5\", \"\\u6570\\u636e\\u4e2d\\u5fc3\", \"\\u6e38\\u8d44\", \"\\u7533\\u8d2d\", \"\\u4e91\\u7f51\", \"\\u8fc7\\u4f1a\", \"\\u5bcc\\u58eb\\u5eb7\", \"\\u6536\\u5230\", \"\\u56de\\u8d2d\", \"\\u4ebf\\u80a1\", \"\\u6279\\u6587\", \"\\u5e74\\u5ea6\", \"\\u52df\\u96c6\", \"\\u53d1\\u884c\", \"ipo\", \"\\u9501\\u5b9a\", \"\\u91d1\\u989d\", \"\\u516c\\u544a\", \"\\u62ab\\u9732\", \"\\u53ec\\u5f00\", \"\\u7f51\\u4e0a\", \"\\u5356\\u51fa\", \"\\u6218\\u7565\", \"\\u80a1\\u4efd\", \"\\u6295\\u8d44\\u8005\", \"\\u8865\\u5145\", \"\\u4fe1\\u606f\", \"\\u5de5\\u4e1a\", \"\\u73af\\u4fdd\", \"\\u80a1\\u4e1c\", \"\\u4e0a\\u5e02\", \"\\u9879\\u76ee\", \"\\u80a1\\u7968\", \"\\u79d1\\u6280\", \"\\u6295\\u8d44\", \"\\u6709\\u9650\\u516c\\u53f8\", \"\\u4e0a\\u5e02\\u516c\\u53f8\", \"\\u8bc1\\u5238\", \"\\u8d44\\u91d1\", \"\\u5e02\\u573a\", \"a\\u80a1\", \"\\u6d41\\u52a8\\u6027\", \"\\u8d27\\u5e01\\u653f\\u7b56\", \"\\u964d\\u51c6\", \"mlf\", \"\\u5916\\u6c47\", \"\\u592e\\u884c\", \"\\u8d27\\u5e01\", \"\\u51c6\\u5907\\u91d1\\u7387\", \"\\u6c47\\u7387\", \"\\u7eaf\\u78b1\", \"\\u6c47\\u5151\", \"\\u5e02\\u573a\\u5316\", \"\\u8d44\\u7ba1\", \"\\u52a0\\u606f\", \"\\u7164\\u70ad\", \"\\u8d3e\\u8dc3\\u4ead\", \"\\u503a\\u52a1\", \"\\u611f\\u8c22\\u60a8\", \"\\u6cf0\\u56fd\", \"\\u5173\\u8054\\u65b9\", \"\\u5148\\u751f\", \"\\u5de5\\u5177\", \"\\u7126\\u5316\", \"\\u79d8\\u4e66\", \"\\u8d75\\u51ef\", \"\\u5b58\\u6b3e\", \"\\u5ba1\\u8ba1\\u62a5\\u544a\", \"\\u7f8e\\u5143\", \"\\u89c6\\u7f51\", \"\\u5229\\u7387\", \"\\u91d1\\u878d\\u673a\\u6784\", \"\\u6ce2\\u52a8\", \"\\u5b9e\\u4f53\", \"\\u4eba\\u6c11\\u5e01\", \"\\u878d\\u8d44\", \"\\u6846\\u67b6\", \"\\u4fdd\\u6301\", \"\\u8bc1\\u5238\\u62a5\", \"\\u6211\\u56fd\", \"\\u4f01\\u4e1a\", \"\\u98ce\\u9669\", \"\\u91d1\\u878d\", \"\\u6210\\u672c\", \"\\u7ecf\\u6d4e\", \"\\u8d44\\u91d1\", \"\\u4e2d\\u56fd\", \"\\u4ea7\\u80fd\", \"\\u4e0a\\u5e02\\u516c\\u53f8\", \"\\u94f6\\u884c\", \"\\u5e02\\u573a\", \"\\u589e\\u52a0\", \"\\u7f8e\\u56fd\", \"\\u697c\\u5e02\", \"\\u4f4f\\u623f\", \"\\u623f\\u4f01\", \"\\u623f\\u4ef7\", \"\\u5468\\u8f6c\", \"\\u6e05\\u7406\", \"\\u516c\\u79ef\\u91d1\", \"\\u8425\\u6536\", \"\\u4eba\\u6570\", \"\\u540c\\u4e1a\", \"\\u9884\\u7b97\", \"\\u6574\\u6cbb\", \"\\u4e71\\u8c61\", \"ppp\", \"\\u7f5a\\u5355\", \"\\u8d22\\u653f\\u90e8\", \"\\u8c03\\u63a7\", \"\\u5e74\\u672b\", \"\\u79df\\u8d41\", \"\\u516c\\u5171\", \"\\u5546\\u4e1a\\u94f6\\u884c\", \"\\u94f6\\u884c\\u4e1a\", \"\\u8fdd\\u89c4\", \"\\u5458\\u5de5\", \"\\u623f\\u5730\\u4ea7\", \"\\u51cf\\u5c11\", \"\\u652f\\u51fa\", \"\\u4e07\\u79d1\", \"\\u4e94\\u5927\", \"\\u73af\\u6bd4\", \"\\u94f6\\u884c\", \"\\u540c\\u6bd4\", \"\\u90e8\\u95e8\", \"\\u767e\\u5206\\u70b9\", \"\\u589e\\u957f\", \"\\u4e0b\\u964d\", \"\\u4e07\\u4ebf\\u5143\", \"\\u589e\\u52a0\", \"\\u589e\\u901f\", \"\\u57ce\\u5e02\", \"\\u51c0\\u5229\\u6da6\", \"\\u5316\\u5b66\", \"\\u9879\\u76ee\", \"\\u4f01\\u4e1a\", \"\\u8d44\\u4ea7\", \"\\u4e0a\\u5347\", \"\\u6536\\u5165\", \"\\u4e1a\\u52a1\", \"\\u4e0a\\u5e02\", \"\\u653f\\u7b56\", \"\\u80a1\\u4efd\", \"\\u884c\\u4e1a\", \"\\u7ecf\\u6d4e\", \"\\u5e02\\u573a\", \"\\u8bb0\\u8005\", \"\\u89c4\\u6a21\"], \"Total\": [427.0, 436.0, 441.0, 391.0, 466.0, 779.0, 351.0, 176.0, 168.0, 380.0, 638.0, 288.0, 189.0, 228.0, 308.0, 121.0, 117.0, 214.0, 279.0, 157.0, 100.0, 519.0, 351.0, 95.0, 215.0, 283.0, 131.0, 171.0, 147.0, 103.0, 94.61504966121652, 65.49304308580318, 75.4488884249934, 64.35274778557583, 46.42174358123132, 52.38484191516567, 39.258219577667745, 69.56847321645438, 86.87762606990836, 33.13573164180274, 104.82035210289487, 28.18817674198271, 26.201236762211618, 25.88127384733955, 28.091243258521366, 22.89664080771686, 21.854356183016883, 33.17145274621633, 32.13807519344828, 33.96434249288229, 25.547296670856404, 24.04885416280589, 34.44804895077306, 28.81433835738254, 28.33887161071769, 28.252455944902103, 22.423603919015516, 27.23958697687137, 25.389108442516893, 29.531429246704317, 88.27765477853296, 190.84081623746528, 105.84918520554159, 76.00610747284281, 66.23527731187681, 210.50730802719784, 170.6133140018333, 213.33801478547304, 335.2770630378692, 234.1842941428196, 48.60310551389114, 193.25106820998593, 63.45360362342984, 67.77857617469036, 760.7215124527816, 155.9527438713494, 54.24961173211429, 149.87873975056917, 117.21496307667712, 92.90275190093627, 99.49506726659713, 146.95953306792978, 153.88634773035088, 352.004202464655, 172.43080464053082, 202.03532219081657, 273.8714324629309, 175.09331092609065, 638.5518341912771, 799.5614661407426, 456.1142517681552, 492.473035862637, 420.84552123565527, 187.1023004314893, 218.64233334919157, 217.47016888965754, 466.09088176574215, 157.60516693340128, 91.75760330205588, 71.0789144378236, 54.86194139526258, 52.51617366013191, 35.00042564897984, 31.957414434379945, 31.4749369036949, 31.794288160428295, 28.01297094011167, 53.84369401750221, 27.719046946074087, 27.69812730535187, 24.089069831855365, 54.00709390240068, 24.138336728991714, 24.157309996871582, 126.40250560363975, 23.1720270185458, 85.29872677092125, 20.197055084362777, 18.172319254002442, 228.3171391237761, 114.62351781319002, 436.24548895860266, 15.51533532678503, 14.274774229569088, 73.48663071635475, 14.395853813688042, 15.041961744414339, 70.8308535442405, 288.72268797029835, 36.3951904451011, 78.86756393866429, 380.2193366355473, 122.41269171325216, 92.0075577171036, 283.20862499380075, 58.411221838802895, 103.24353466026004, 156.82980065905502, 99.93580679415778, 170.20511792422582, 135.4357566496164, 323.85906451407703, 273.8144097110978, 167.58820207432314, 175.07050977133795, 216.94904650179313, 337.6445142981806, 156.6918265878068, 799.5614661407426, 519.1599685857519, 321.97886590596795, 420.84552123565527, 154.7844749716754, 142.05454831653088, 492.473035862637, 779.2727861457415, 351.8827963045143, 456.1142517681552, 254.9166376692558, 760.7215124527816, 391.70758539349924, 466.09088176574215, 131.0935290261222, 125.24016662513364, 86.0278406533635, 68.651993337002, 70.06185725931722, 54.60611440088125, 43.245017885333915, 53.898199775790104, 111.7133970194446, 32.68799636361466, 31.887984306333216, 50.5727897557397, 30.753156702611616, 30.89211105701302, 28.66392028705103, 29.64698913797953, 24.60665331003816, 40.81736128672483, 31.403521946419104, 21.421824741283622, 21.26194237380181, 20.783246886575597, 59.852929988649976, 18.67467470542119, 18.198559680032393, 427.2661627063852, 27.490551626757252, 89.64570277261424, 88.43668006007769, 58.7077079458435, 214.28367831434633, 60.121357062002126, 351.7897731004556, 120.16614105827941, 105.26005909485373, 171.2455989179914, 183.0623011981212, 308.0573112686759, 139.7532578485627, 53.84100893983018, 54.03534123708796, 279.23678526677355, 779.2727861457415, 351.0935502359452, 91.57314302672228, 232.92402788827948, 253.6474836723132, 122.61269724067105, 141.03119672780238, 269.37716488313663, 271.08502846886995, 227.68609841219623, 456.1142517681552, 492.473035862637, 218.64233334919157, 360.9995188846829, 351.8827963045143, 519.1599685857519, 799.5614661407426, 337.6445142981806, 176.4126476657432, 168.08928855436508, 121.35842265827664, 117.54909167964384, 100.95138766869063, 95.24513507476135, 72.01721251321206, 57.015385594551525, 55.69319348974974, 56.86457197857035, 54.369098131461286, 56.69618310805524, 52.20072573112927, 37.55836783370333, 88.44678497737823, 27.12369352720434, 60.462749865023525, 20.958109795879714, 55.26905162006275, 15.985016917739173, 22.69657388024858, 79.98250712941847, 11.827135533349187, 11.608916022323067, 11.168602272022838, 76.60337259254273, 11.134162062761792, 48.10042358846272, 27.8910782560337, 79.21411322739719, 96.66469355214711, 40.99508911282355, 44.24886981268085, 114.98129863478087, 147.57618929516946, 44.48553952838591, 101.89773406685295, 64.76391142330574, 181.80508416396998, 638.5518341912771, 184.58766287818398, 242.42207823059113, 113.72791922598334, 255.7239468775799, 519.1599685857519, 760.7215124527816, 167.59973434539137, 360.9995188846829, 441.7007303423948, 799.5614661407426, 215.1843051899631, 111.27666825992843, 60.256736034972974, 60.87709576996318, 47.76295898159367, 32.11393879476244, 32.60951335467786, 28.188334422352085, 24.080468896149114, 81.13389991523337, 54.006814640705045, 18.825565544431583, 17.74344765736491, 15.338754433349596, 13.33319490010026, 40.495987571318814, 11.4570763180644, 13.896454498383923, 79.16202076932225, 35.861553421500226, 48.29779578184936, 13.139601065046211, 24.145935347899467, 37.4871793588916, 28.48708126236876, 103.61784520798419, 73.08173247800441, 189.8103238457353, 34.79272420217385, 28.73184696719765, 49.26448545543509, 56.804937962568815, 441.7007303423948, 391.70758539349924, 56.95003386893996, 95.19580149043692, 466.09088176574215, 117.10040860514768, 57.04393517227251, 215.1843051899631, 168.78291649739748, 135.83072612180953, 254.9166376692558, 69.6136351217322, 271.08502846886995, 638.5518341912771, 178.55602329062438, 81.78892861892129, 148.02034374890638, 352.004202464655, 269.37716488313663, 146.12483859053157, 779.2727861457415, 420.84552123565527, 255.7239468775799, 799.5614661407426, 223.53665162804862, 195.4356637691206], \"loglift\": [30.0, 29.0, 28.0, 27.0, 26.0, 25.0, 24.0, 23.0, 22.0, 21.0, 20.0, 19.0, 18.0, 17.0, 16.0, 15.0, 14.0, 13.0, 12.0, 11.0, 10.0, 9.0, 8.0, 7.0, 6.0, 5.0, 4.0, 3.0, 2.0, 1.0, 1.3257, 1.3228, 1.3226, 1.3213, 1.3189, 1.3188, 1.3159, 1.3152, 1.3134, 1.3125, 1.31, 1.3085, 1.3078, 1.3074, 1.3048, 1.3008, 1.3005, 1.2924, 1.2897, 1.289, 1.287, 1.2752, 1.2751, 1.274, 1.2679, 1.2675, 1.2592, 1.2591, 1.2532, 1.2523, 1.2454, 1.229, 1.2072, 1.2117, 1.2171, 1.1401, 1.1502, 1.0949, 1.02, 1.0516, 1.2159, 1.0414, 1.1836, 1.1631, 0.7668, 1.0267, 1.1927, 0.9699, 1.0167, 1.0566, 1.0266, 0.9171, 0.8997, 0.5959, 0.8212, 0.7616, 0.6348, 0.8008, 0.0969, -0.0166, 0.2141, 0.1675, 0.2482, 0.6111, 0.4843, 0.4554, -0.2974, 1.4118, 1.4083, 1.4055, 1.4024, 1.4017, 1.3936, 1.3914, 1.3914, 1.3911, 1.3883, 1.3867, 1.3854, 1.3853, 1.3838, 1.3837, 1.3836, 1.3832, 1.3831, 1.3793, 1.3752, 1.3739, 1.3722, 1.3719, 1.3654, 1.3638, 1.3602, 1.3599, 1.3585, 1.3537, 1.3531, 1.345, 1.325, 1.3432, 1.3275, 1.2516, 1.2956, 1.2983, 1.128, 1.2946, 1.2274, 1.1776, 1.2203, 1.1394, 1.1703, 1.039, 1.0346, 1.0819, 1.069, 1.0208, 0.7563, 1.0145, 0.4321, 0.5555, 0.6898, 0.5493, 0.9914, 0.9783, 0.1689, -0.1525, 0.376, 0.1943, 0.5612, -0.273, 0.2053, 0.0398, 1.4363, 1.4352, 1.4336, 1.4312, 1.4279, 1.4263, 1.4248, 1.4213, 1.4206, 1.4197, 1.4196, 1.4188, 1.4186, 1.4184, 1.417, 1.416, 1.4126, 1.4095, 1.4094, 1.4083, 1.4062, 1.405, 1.4041, 1.4028, 1.4014, 1.3901, 1.3892, 1.3887, 1.3874, 1.3835, 1.3786, 1.3815, 1.3445, 1.3648, 1.3677, 1.347, 1.327, 1.2966, 1.305, 1.3721, 1.3621, 1.1591, 1.0136, 1.0801, 1.2738, 1.0847, 1.0669, 1.1975, 1.1383, 0.7919, 0.7487, 0.8158, 0.4683, 0.4307, 0.7978, 0.5192, 0.4676, 0.1991, -0.2024, 0.36, 2.0045, 2.0045, 2.0026, 2.0024, 2.0009, 2.0005, 1.9965, 1.9951, 1.9947, 1.9944, 1.9943, 1.9941, 1.9904, 1.9875, 1.9842, 1.9745, 1.9735, 1.969, 1.9633, 1.9563, 1.9476, 1.9414, 1.9368, 1.9341, 1.9322, 1.9319, 1.9254, 1.8896, 1.8695, 1.8582, 1.8513, 1.8542, 1.8463, 1.7622, 1.6588, 1.7908, 1.5566, 1.6734, 1.364, 0.8802, 1.314, 1.0351, 1.3886, 0.9629, 0.5721, 0.0609, 1.0919, 0.4769, 0.2193, -0.3035, 0.825, 1.3676, 2.0794, 2.0788, 2.0752, 2.0674, 2.0663, 2.062, 2.058, 2.0542, 2.0489, 2.0471, 2.0468, 2.0383, 2.0305, 2.0304, 2.0166, 2.0111, 2.0053, 2.0008, 1.9887, 1.9735, 1.9643, 1.956, 1.9558, 1.9385, 1.9234, 1.8545, 1.8491, 1.8437, 1.8334, 1.8194, 1.6157, 1.6132, 1.7792, 1.699, 1.3976, 1.5903, 1.7379, 1.2961, 1.3395, 1.3669, 1.1019, 1.5872, 0.9654, 0.5119, 1.0436, 1.4965, 1.1074, 0.4805, 0.6513, 1.0016, -0.3489, 0.1485, 0.5419, -0.4962, 0.6215, 0.7254], \"logprob\": [30.0, 29.0, 28.0, 27.0, 26.0, 25.0, 24.0, 23.0, 22.0, 21.0, 20.0, 19.0, 18.0, 17.0, 16.0, 15.0, 14.0, 13.0, 12.0, 11.0, 10.0, 9.0, 8.0, 7.0, 6.0, 5.0, 4.0, 3.0, 2.0, 1.0, -5.2271, -5.5979, -5.4566, -5.617, -5.946, -5.8252, -6.1166, -5.5451, -5.3248, -6.2896, -5.1404, -6.4553, -6.5291, -6.5418, -6.4625, -6.6709, -6.7178, -6.3086, -6.343, -6.2883, -6.5751, -6.6474, -6.2882, -6.4678, -6.4906, -6.494, -6.7334, -6.5389, -6.6151, -6.4649, -5.3768, -4.6223, -5.2335, -5.5601, -5.6924, -4.613, -4.8131, -4.6449, -4.2677, -4.595, -6.003, -4.7972, -5.7687, -5.7234, -3.7016, -5.0264, -5.9164, -5.1229, -5.322, -5.5146, -5.476, -5.1954, -5.1667, -4.6431, -5.1314, -5.0326, -4.8552, -5.1365, -4.5465, -4.4352, -4.7658, -4.7358, -4.8122, -5.2599, -5.2309, -5.2652, -5.2557, -4.6308, -5.1752, -5.4333, -5.6954, -5.7399, -6.1537, -6.2469, -6.2621, -6.2523, -6.3817, -5.7299, -6.3951, -6.396, -6.5371, -5.7298, -6.5353, -6.5349, -4.88, -6.5804, -5.2813, -6.7233, -6.8305, -4.3, -4.9956, -3.6607, -7.0006, -7.0843, -5.447, -7.082, -7.0387, -5.4974, -4.1122, -6.1651, -5.4074, -3.9103, -4.9997, -5.2825, -4.3285, -5.7405, -5.2382, -4.8699, -5.2779, -4.8263, -5.0239, -4.2834, -4.4556, -4.8993, -4.8685, -4.7022, -4.5244, -5.0339, -3.9865, -4.2949, -4.6384, -4.5111, -5.0692, -5.1682, -4.7344, -4.5968, -4.8634, -4.7856, -5.0005, -4.7414, -4.9269, -4.9185, -4.7904, -4.8373, -5.2144, -5.4425, -5.4254, -5.6763, -5.911, -5.6942, -4.9661, -6.1959, -6.2208, -5.7605, -6.2581, -6.2538, -6.33, -6.2973, -6.4871, -5.984, -6.2463, -6.6299, -6.6395, -6.6635, -5.6067, -6.7727, -6.7999, -3.6551, -6.3996, -5.2181, -5.233, -5.6466, -4.3567, -5.6248, -3.8951, -4.949, -5.0786, -4.6126, -4.5658, -4.0758, -4.8578, -5.7446, -5.7509, -4.3116, -3.4307, -4.1616, -5.3117, -4.5673, -4.4998, -5.0961, -5.0154, -4.7146, -4.7515, -4.8589, -4.5116, -4.4725, -4.9175, -4.6946, -4.7718, -4.6514, -4.621, -4.9206, -3.9254, -3.9737, -4.3013, -4.3334, -4.4871, -4.5457, -4.8293, -5.0643, -5.0881, -5.0676, -5.1126, -5.0709, -5.1571, -5.4893, -4.6361, -5.8277, -5.0272, -6.0912, -5.1272, -6.3747, -6.0328, -4.7795, -6.6954, -6.7168, -6.7574, -4.8321, -6.7672, -5.3398, -5.9048, -4.8724, -4.6801, -5.535, -5.4666, -4.5957, -4.4495, -5.5167, -4.9221, -5.2586, -4.5357, -3.7633, -4.5706, -4.5769, -4.9803, -4.5957, -4.2783, -4.4075, -4.8892, -4.7369, -4.7928, -4.7221, -4.9061, -5.0231, -4.9247, -4.915, -5.1612, -5.5659, -5.5518, -5.7018, -5.8633, -4.6523, -5.0647, -6.1204, -6.1798, -6.334, -6.4819, -5.3711, -6.6474, -6.4599, -4.7259, -5.5222, -5.2366, -6.5536, -5.9542, -5.5227, -5.7974, -4.5234, -4.8877, -4.0021, -5.7041, -5.901, -5.3721, -5.2437, -3.3963, -3.519, -5.2813, -4.8477, -3.5607, -4.7494, -5.321, -4.435, -4.6345, -4.8243, -4.4599, -5.2726, -4.5348, -4.1316, -4.8742, -5.2021, -4.9979, -4.7585, -4.8552, -5.1166, -4.7932, -4.9119, -5.0166, -4.9148, -5.0716, -5.1021]}, \"token.table\": {\"Topic\": [1, 2, 3, 4, 5, 2, 3, 1, 2, 4, 2, 2, 3, 5, 2, 1, 2, 4, 5, 2, 4, 5, 3, 5, 1, 2, 3, 4, 5, 1, 2, 3, 1, 2, 3, 4, 5, 1, 2, 3, 4, 5, 1, 2, 3, 5, 1, 2, 3, 4, 5, 2, 3, 1, 1, 2, 3, 4, 5, 1, 2, 3, 4, 5, 1, 2, 3, 4, 5, 1, 1, 2, 3, 1, 3, 1, 2, 3, 4, 5, 1, 5, 2, 4, 3, 1, 2, 5, 1, 2, 3, 4, 5, 1, 2, 3, 4, 5, 4, 5, 1, 2, 4, 5, 2, 3, 1, 2, 3, 4, 5, 1, 2, 3, 4, 5, 1, 2, 3, 4, 5, 5, 1, 3, 5, 1, 2, 4, 5, 3, 1, 2, 3, 4, 5, 1, 4, 5, 2, 4, 5, 2, 1, 2, 3, 5, 1, 5, 2, 1, 2, 3, 4, 5, 4, 1, 1, 2, 3, 4, 5, 4, 2, 3, 4, 5, 1, 3, 2, 3, 4, 1, 2, 3, 4, 5, 4, 5, 4, 3, 3, 4, 2, 3, 4, 5, 2, 2, 1, 1, 2, 3, 1, 5, 1, 2, 3, 4, 5, 1, 2, 3, 4, 3, 1, 3, 4, 5, 1, 3, 4, 5, 5, 1, 2, 3, 4, 5, 1, 3, 5, 5, 1, 3, 5, 2, 2, 5, 3, 2, 3, 4, 1, 3, 1, 2, 3, 4, 5, 1, 2, 3, 4, 5, 1, 2, 3, 5, 1, 2, 4, 5, 1, 2, 3, 5, 1, 2, 3, 4, 5, 2, 3, 1, 2, 3, 4, 5, 1, 2, 3, 4, 5, 4, 1, 2, 5, 2, 3, 2, 4, 1, 4, 5, 1, 4, 4, 2, 2, 3, 3, 1, 2, 3, 4, 5, 3, 4, 1, 2, 3, 4, 5, 4, 1, 2, 3, 4, 5, 1, 2, 3, 5, 1, 3, 4, 5, 3, 5, 1, 2, 3, 1, 5, 2, 4, 1, 4, 5, 1, 2, 3, 4, 5, 1, 2, 3, 5, 5, 5, 1, 2, 5, 1, 2, 3, 1, 2, 3, 5, 1, 2, 3, 4, 5, 1, 2, 3, 4, 1, 2, 3, 4, 5, 3, 3, 2, 3, 1, 2, 4, 5, 1, 2, 3, 4, 5, 1, 2, 3, 4, 5, 2, 4, 5, 1, 2, 3, 4, 5, 3, 5, 1, 2, 3, 4, 5, 1, 2, 3, 4, 5, 3, 5, 2, 3, 1, 2, 3, 1, 2, 3, 1, 2, 3, 1, 2, 3, 1, 2, 3, 5, 3, 1, 2, 3, 4, 5, 1, 1, 2, 3, 4, 5, 1, 3, 4, 5, 1, 2, 3, 1, 2, 3, 4, 4, 1, 2, 3, 4, 3, 4, 5, 1, 4, 4, 1, 3, 1, 2, 3, 5, 1, 2, 5, 3, 4, 4, 5, 1, 2, 1, 2, 3, 1, 2, 3, 4, 5, 1, 2, 4, 5, 1, 3, 2, 3, 1, 2, 3, 4, 5, 2, 2, 2, 1, 2, 4, 5, 1, 2, 3, 2, 1, 2, 3, 5, 1, 2, 3, 4, 2, 3, 5, 1, 2, 3, 4, 5, 1, 3, 4, 1, 2, 3, 4, 5, 1, 3, 4, 5, 1, 3, 4, 1, 4, 1, 2, 3, 4, 5, 3, 1, 2, 3, 5, 1, 3, 2, 3, 4, 2, 1, 4, 3, 5, 1, 2, 2, 2, 1, 1, 2, 3, 4, 5, 1, 2, 3, 4, 5, 3, 4, 5, 1, 3, 5, 1, 4, 5, 1, 2, 3, 4, 5, 3, 4, 1, 1, 2, 3, 4, 5, 1, 2, 3, 4, 5, 2, 3, 4, 2, 3, 4, 5, 3, 1, 3, 4, 5, 1, 2, 4, 5, 1, 5, 4, 4, 1, 2, 3, 5, 4, 1, 2, 3, 4, 5, 4, 1, 2, 3, 4, 5, 3, 4, 3, 1, 2, 3, 3, 3, 3, 5, 1, 2, 4, 5, 3, 1, 2, 3, 2, 1, 2, 3, 4, 5, 1, 2, 4, 1, 2, 3, 1, 2, 3, 4, 5, 2, 5, 2, 3, 4, 1, 5, 4, 1, 2, 3, 4, 5, 1, 2, 1, 2, 1, 2, 3, 1, 2, 1, 2, 3, 4, 5, 2, 5, 1, 2, 3, 4, 5, 1, 2, 3, 4, 5, 1, 3, 2, 3], \"Freq\": [0.008885084380049013, 0.5153348940428427, 0.3376332064418625, 0.05627220107364375, 0.07996575942044112, 0.06657449369302854, 0.923721099990771, 0.8663656475937004, 0.12903318155650856, 0.9953288309437535, 0.9848208931388874, 0.024693804497022506, 0.024693804497022506, 0.9383645708868552, 0.9917434275221647, 0.08567976422523536, 0.7082860509286123, 0.19991944985888252, 0.005711984281682358, 0.26295521083354517, 0.01753034738890301, 0.7012138955561203, 0.20882750791656496, 0.7657008623607381, 0.11003934336802051, 0.14671912449069402, 0.024453187415115672, 0.1711723119058097, 0.5501967168401026, 0.02344700883251413, 0.9613273621330793, 0.011723504416257064, 0.055684007241324336, 0.11879254878149192, 0.5234296680684488, 0.0668208086895892, 0.23758509756298385, 0.06371199626819193, 0.28808902660399827, 0.39612241158049766, 0.21606676995299873, 0.03601112832549978, 0.5642577682150564, 0.2821288841075282, 0.11879110909790659, 0.034647406820222756, 0.06381953811991727, 0.6701051502591312, 0.12763907623983453, 0.03190976905995863, 0.10849321480385934, 0.8902398950582492, 0.10271998789133643, 0.992319570101292, 0.008539679851775004, 0.20495231644260012, 0.008539679851775004, 0.1707935970355001, 0.6063172694760254, 0.47726702926755254, 0.12499850766531138, 0.09374888074898353, 0.10511238144583003, 0.19886126219481357, 0.13147591479200704, 0.6829443351695921, 0.04747741367489143, 0.05843373990755868, 0.08034639237289319, 0.9933242669894842, 0.0022922873137030757, 0.9490069478730733, 0.048138033587764584, 0.9365131526512435, 0.044595864411963976, 0.5678819291005847, 0.18403581035667094, 0.06704161662993013, 0.14197048227514616, 0.03812170357388184, 0.9608396351566705, 0.9750101230352708, 0.93179732697668, 0.056472565271313946, 0.9638722111060208, 0.16238878628371833, 0.060895794856394375, 0.7713467348476621, 0.7558149902745178, 0.02135070593995813, 0.09394310613581577, 0.11956395326376552, 0.008540282375983251, 0.4534613392845741, 0.0596659656953387, 0.05369936912580483, 0.39976197015876924, 0.02983298284766935, 0.03703236366198491, 0.9628414552116076, 0.15654719692438013, 0.03478826598319558, 0.7827359846219006, 0.026091199487396688, 0.045230101325407966, 0.9498321278335672, 0.28971806217470447, 0.042283176641713625, 0.13781183498039998, 0.32260497734048177, 0.20515170889127723, 0.7337047152739384, 0.10050749524300526, 0.03015224857290158, 0.08040599619440421, 0.040202998097202104, 0.07013973080227137, 0.7842897171526707, 0.10839776578532848, 0.006376339163842852, 0.025505356655371406, 0.9855923519532294, 0.9177819040070997, 0.03671127616028399, 0.03671127616028399, 0.08832384824274199, 0.1472064137379033, 0.6378944595309144, 0.12757889190618288, 0.9789526297065894, 0.261887966445687, 0.012879736054705918, 0.6997989923056882, 0.012879736054705918, 0.012879736054705918, 0.9934225346832938, 0.9592683119685865, 0.016539108827044596, 0.9528411281285799, 0.9252497804646629, 0.04405951335546014, 0.9106974156601025, 0.7374028641321457, 0.14106837400788877, 0.03847319291124239, 0.08335858464102518, 0.07610581135984307, 0.9132697363181168, 0.9901711487308191, 0.0491635904339455, 0.03277572695596366, 0.8904072489703462, 0.021850484637309108, 0.9551309029401043, 0.9383787378638265, 0.9926535634909636, 0.01961425525503479, 0.42366791350875144, 0.16083689309128527, 0.023537106306041746, 0.372670849845661, 0.9821910246863514, 0.026342086661543522, 0.10536834664617409, 0.07902625998463056, 0.7902625998463056, 0.017902955718479174, 0.975711086657115, 0.8232961054627448, 0.15497338455769313, 0.00968583653485582, 0.6498302251946751, 0.12996604503893502, 0.06498302251946751, 0.09747453377920128, 0.06498302251946751, 0.8584328881495494, 0.12624013061022787, 0.9851333307087357, 0.9889002466567833, 0.9480823917733073, 0.0498990732512267, 0.18674502455254804, 0.11492001510926032, 0.08619001133194525, 0.6033300793236167, 0.9747951441750728, 0.9638392178295805, 0.9940504302400737, 0.018506406679516536, 0.05551922003854961, 0.9253203339758268, 0.9646849128020192, 0.0301464035250631, 0.730738923146459, 0.03877390204450599, 0.04772172559323814, 0.06859998054027983, 0.11333909828394058, 0.0028426067966292024, 0.04548170874606724, 0.9067915681247155, 0.042639101949438034, 0.9553068617967818, 0.06439921429060669, 0.8729671270504462, 0.021466404763535563, 0.042932809527071125, 0.7451446521554547, 0.22768308815861113, 0.02069846255987374, 0.005174615639968435, 0.9561465740573314, 0.0663760441960323, 0.2986921988821453, 0.005105849553540946, 0.012764623883852364, 0.6203607207552249, 0.02895254185201718, 0.11581016740806872, 0.8589254082765096, 0.9813087258295309, 0.9730934685267387, 0.009540132044379791, 0.009540132044379791, 0.9307296639814112, 0.08282967593442125, 0.8697115973114232, 0.9753459642644423, 0.04462009752041294, 0.9481770723087749, 0.011155024380103235, 0.914280164852271, 0.06772445665572378, 0.48636494468608205, 0.026723348609125386, 0.005344669721825077, 0.29395683470037925, 0.1870634402638777, 0.6600456464104526, 0.11567810297915149, 0.061241348636021375, 0.10206891439336896, 0.06804594292891264, 0.7251633901415518, 0.14503267802831035, 0.08531334001665315, 0.042656670008326576, 0.43436416549146845, 0.06625894049869857, 0.02208631349956619, 0.4858988969904562, 0.028930669590178842, 0.8468796007306898, 0.0973122522578743, 0.023670547846509963, 0.023235895366932255, 0.16729844664191224, 0.05111896980725096, 0.30671381884350574, 0.4507763701184857, 0.9389462998559241, 0.054431669556865174, 0.2843889713254252, 0.17774310707839072, 0.005924770235946357, 0.059247702359463576, 0.4680568486397622, 0.1952408930534211, 0.2531695096736669, 0.008582017277073455, 0.045055590704635634, 0.4999025063895287, 0.9905757841406504, 0.2067400861682217, 0.7826588976368394, 0.007383574506007918, 0.9628364765186622, 0.01851608608689735, 0.9354887376995515, 0.9869270480451942, 0.9659493635229187, 0.9268521423678386, 0.06527127763153794, 0.13559668360796232, 0.8587789961837613, 0.8981367384120448, 0.970040929426695, 0.04914969130010671, 0.9502273651353964, 0.9905029219792431, 0.26020364580184563, 0.01971239740923073, 0.6859914298412293, 0.03153983585476917, 0.003942479481846146, 0.06251366929408173, 0.937705039411226, 0.25889191608886625, 0.3739549899061401, 0.1926055800854367, 0.0988041612126591, 0.0750411350982221, 0.9877208117038777, 0.6938942786220289, 0.006672060371365663, 0.28022653559735783, 0.013344120742731325, 0.006672060371365663, 0.7874827192375268, 0.014062191414955835, 0.09374794276637223, 0.10312273704300946, 0.014000133018059871, 0.9380089122100114, 0.028000266036119742, 0.018666844024079827, 0.08365504875763127, 0.920205536333944, 0.8786085581991907, 0.0094474038516042, 0.10392144236764621, 0.884717129602146, 0.10287408483745883, 0.9961602341777475, 0.9542845320875227, 0.32533787878840076, 0.5363678542187148, 0.13189373464394624, 0.3960285287460015, 0.02750198116291677, 0.005500396232583354, 0.5225376420954186, 0.04400316986066683, 0.2363585440111187, 0.0035811900607745258, 0.7520499127626504, 0.0071623801215490515, 0.9653129190448567, 0.9840261366158723, 0.05473323995437423, 0.09578316992015491, 0.8483652192928006, 0.960906824439843, 0.05110061531898725, 0.9368446141814329, 0.8265746288367288, 0.052254717914965616, 0.10925986473129175, 0.019001715605442043, 0.3127074759133705, 0.286310091583021, 0.3634716765486579, 0.014213976177880477, 0.022336248279526464, 0.042723655817429734, 0.15950164838507103, 0.6949714679635237, 0.09968853024066938, 0.9934994521123353, 0.04869223826639702, 0.8634756919241072, 0.05843068591967643, 0.025969193742078414, 0.9848440035583554, 0.9943341939183933, 0.9657584040035793, 0.018572277000068832, 0.024507262752030686, 0.8822614590731047, 0.04901452550406137, 0.03267635033604092, 0.7534760657535974, 0.010763943796479963, 0.10763943796479963, 0.05381971898239982, 0.06458366277887978, 0.5882577664173462, 0.17704845397026922, 0.0856686067598077, 0.051401164055884616, 0.09709108766111539, 0.9520927621071446, 0.20119148932760603, 0.7760243159779089, 0.2972564370924526, 0.08782576550458827, 0.23645398405081458, 0.0067558281157375595, 0.37157054636556575, 0.9457794937331683, 0.03637613437435263, 0.3763904927492856, 0.06843463504532465, 0.06843463504532465, 0.15055619709971424, 0.3353297117220908, 0.22051136741606867, 0.4845038495338973, 0.15528969536342863, 0.03726952688722287, 0.1024911989398629, 0.9876802236975035, 0.9779151276707923, 0.018553495370158508, 0.9833352546184009, 0.8815081080680165, 0.07894102460310595, 0.026313674867701985, 0.8667750428549593, 0.01575954623372653, 0.11031682363608572, 0.917559491166923, 0.05663947476339031, 0.022655789905356126, 0.4299258911121914, 0.045736796926828874, 0.525973164658532, 0.5973410622001428, 0.011598855576701803, 0.16238397807382524, 0.22617768374568514, 0.9755096132115876, 0.06175525773844959, 0.6854833608967904, 0.16982695878073636, 0.024702103095379836, 0.058667494851527106, 0.9611536147233234, 0.204796022724483, 0.7485647727170758, 0.028247727272342482, 0.01059289772712843, 0.0070619318180856205, 0.1573545038277742, 0.04495842966507834, 0.8092517339714101, 0.9791436423930502, 0.05003211721999425, 0.8205267224079057, 0.1200770813279862, 0.06335594394306818, 0.6476385380846968, 0.2886215224073106, 0.9932112515354066, 0.9875533535372267, 0.8322914353476198, 0.09964052395006717, 0.052750865620623796, 0.011722414582360844, 0.09757266264238397, 0.8537607981208597, 0.024393165660595992, 0.03618661694701483, 0.958945349095893, 0.9976608952294335, 0.9059002623929848, 0.07877393586025955, 0.005875263988508226, 0.7579090545175612, 0.11163001578165631, 0.12338054375867276, 0.0436210656887084, 0.9509392320138432, 0.9578430422831301, 0.9623135455759073, 0.930064593322965, 0.9723360778121666, 0.011306233462932169, 0.9783876913441732, 0.01151044342757851, 0.08398775137092347, 0.6525202221894824, 0.2584238503720722, 0.07340185969756702, 0.008155762188618559, 0.7829531701073816, 0.024467286565855676, 0.10602490845204125, 0.14083282698542052, 0.08802051686588783, 0.017604103373177565, 0.7569764450466353, 0.9657248660123156, 0.9803086456743019, 0.03341523966127078, 0.9690419501768527, 0.09218754505950177, 0.672969078934363, 0.207421976383879, 0.013828131758925265, 0.013828131758925265, 0.9494206088397978, 0.9407312066356854, 0.954789876094959, 0.06302798974388321, 0.07353265470119708, 0.18908396923164963, 0.6722985572680875, 0.08694937892599722, 0.8912311339914715, 0.021737344731499304, 0.9725022344064337, 0.9909149560379323, 0.9651707410180247, 0.023733706746344868, 0.007911235582114956, 0.326672537467076, 0.2937860404066321, 0.3770984996264233, 0.9475475555898443, 0.02070487863497503, 0.062114635904925095, 0.9110146599389014, 0.41384986483210584, 0.0965649684608247, 0.12875329128109958, 0.1839332732587137, 0.17473660959577803, 0.8907639915537964, 0.1056838634046877, 0.9847959467821867, 0.24244894057450406, 0.0821198024526546, 0.11340353672033254, 0.35194201051137686, 0.21116520630682611, 0.05571960962604989, 0.9286601604341649, 0.018573203208683296, 0.9601053265793711, 0.08315935082449945, 0.020789837706124862, 0.8939630213633691, 0.46730371077011834, 0.5302099795276343, 0.11345007609118457, 0.11345007609118457, 0.7374254945926997, 0.028362519022796143, 0.007090629755699036, 0.9900976926288698, 0.052613155147871515, 0.20788612521841918, 0.6518898247589934, 0.08726084268427471, 0.024499378903389164, 0.9799751561355666, 0.43041714309050033, 0.535825423031031, 0.03513609331351023, 0.9849106320642331, 0.9774542527105021, 0.014374327245742679, 0.024650608464397112, 0.9613737301114874, 0.9370334888526883, 0.034704944031581045, 0.9714167576413745, 0.9667854212667014, 0.9945185279927566, 0.013552321750223327, 0.03388080437555832, 0.2236133088786849, 0.704720731011613, 0.027104643500446654, 0.33741597055154626, 0.42058187878608233, 0.06178038897422678, 0.035642532100515455, 0.14257012840206182, 0.8408578918988329, 0.08736185889858003, 0.06552139417393503, 0.9202739772678581, 0.0353951529718407, 0.0353951529718407, 0.9579642680825742, 0.02902922024492649, 0.02902922024492649, 0.1944373880751447, 0.12791933425996363, 0.1586199744823549, 0.2609554418903258, 0.25583866851992726, 0.10756127721060793, 0.8604902176848634, 0.9924718250584686, 0.21472988724850847, 0.16104741543638137, 0.16104741543638137, 0.23262404451921753, 0.22815050520154026, 0.16198575377545035, 0.35239006084483937, 0.37796675880938413, 0.09662308119939143, 0.011367421317575463, 0.23161047055910441, 0.04632209411182088, 0.7102721097145869, 0.7160408579762768, 0.03580204289881384, 0.07160408579762768, 0.1730432073442669, 0.9711217192192989, 0.01977347907501002, 0.9689004746754909, 0.07579392165194937, 0.9221593800987173, 0.03065910875926461, 0.9548122442170979, 0.004379872679894944, 0.013139618039684832, 0.0719608012328824, 0.9354904160274712, 0.9858754250863925, 0.9935195837656676, 0.0069270621372358, 0.9109086710465077, 0.0554164970978864, 0.0207811864117074, 0.9585715151191594, 0.11761014617703276, 0.2576222249592146, 0.05600483151287274, 0.2184188429002037, 0.3528304385310983, 0.9769979111533074, 0.019261885748319704, 0.4218352978882015, 0.28892828622479555, 0.23692119470433234, 0.032745205772143494, 0.9721530123132663, 0.8953671870874865, 0.9880522323290081, 0.8409737002012259, 0.014753924564933787, 0.14753924564933787, 0.9341398604556896, 0.9768377709537883, 0.10531089416882379, 0.8775907847401982, 0.12291476447773875, 0.017559252068248394, 0.12291476447773875, 0.7374885868664325, 0.9916584057638397, 0.06339741904401315, 0.9129228342337893, 0.025358967617605258, 0.984288900951343, 0.3176278355585989, 0.20212680444638112, 0.01237511047630905, 0.37950338794014415, 0.0907508101595997, 0.12414046493124642, 0.02069007748854107, 0.8586382157744543, 0.03503739680266684, 0.05255609520400026, 0.9109723168693379, 0.0067919290006029165, 0.17432617768214154, 0.03169566866948028, 0.1675342486815386, 0.6203295153883998, 0.1067031467399864, 0.8803009606048878, 0.00950027967492269, 0.9310274081424235, 0.05700167804953613, 0.9645879478905355, 0.0311157402545334, 0.9970465778112007, 0.4965833740925421, 0.31036460880783884, 0.15335663023446153, 0.014605393355663004, 0.025559438372410256, 0.9421645658739325, 0.02944264268356039, 0.9394340352017944, 0.039143084800074765, 0.02747615791455772, 0.9341893690949624, 0.05495231582911544, 0.9563865223804279, 0.041582022712192517, 0.11804414349527502, 0.014755517936909377, 0.5016876098549189, 0.04426655381072814, 0.32462139461200634, 0.9750178976670131, 0.9581001577753508, 0.901274703132576, 0.04715972283833246, 0.03143981522555497, 0.005239969204259162, 0.010479938408518324, 0.2925439282236134, 0.1300195236549393, 0.032504880913734824, 0.4984081740106006, 0.043339841218313094, 0.9527549427828548, 0.035287220103068694, 0.9740594636073544, 0.9781769023839693], \"Term\": [\"a\\u80a1\", \"a\\u80a1\", \"a\\u80a1\", \"a\\u80a1\", \"a\\u80a1\", \"ipo\", \"ipo\", \"it\", \"it\", \"mlf\", \"msci\", \"ppp\", \"ppp\", \"ppp\", \"qfii\", \"\\u4e00\\u5b63\\u5ea6\", \"\\u4e00\\u5b63\\u5ea6\", \"\\u4e00\\u5b63\\u5ea6\", \"\\u4e00\\u5b63\\u5ea6\", \"\\u4e07\\u4ebf\\u5143\", \"\\u4e07\\u4ebf\\u5143\", \"\\u4e07\\u4ebf\\u5143\", \"\\u4e07\\u79d1\", \"\\u4e07\\u79d1\", \"\\u4e0a\\u5347\", \"\\u4e0a\\u5347\", \"\\u4e0a\\u5347\", \"\\u4e0a\\u5347\", \"\\u4e0a\\u5347\", \"\\u4e0a\\u5468\", \"\\u4e0a\\u5468\", \"\\u4e0a\\u5468\", \"\\u4e0a\\u5e02\", \"\\u4e0a\\u5e02\", \"\\u4e0a\\u5e02\", \"\\u4e0a\\u5e02\", \"\\u4e0a\\u5e02\", \"\\u4e0a\\u5e02\\u516c\\u53f8\", \"\\u4e0a\\u5e02\\u516c\\u53f8\", \"\\u4e0a\\u5e02\\u516c\\u53f8\", \"\\u4e0a\\u5e02\\u516c\\u53f8\", \"\\u4e0a\\u5e02\\u516c\\u53f8\", \"\\u4e0a\\u6d77\", \"\\u4e0a\\u6d77\", \"\\u4e0a\\u6d77\", \"\\u4e0a\\u6d77\", \"\\u4e0a\\u6da8\", \"\\u4e0a\\u6da8\", \"\\u4e0a\\u6da8\", \"\\u4e0a\\u6da8\", \"\\u4e0a\\u6da8\", \"\\u4e0b\\u8dcc\", \"\\u4e0b\\u8dcc\", \"\\u4e0b\\u8f7d\\u91cf\", \"\\u4e0b\\u964d\", \"\\u4e0b\\u964d\", \"\\u4e0b\\u964d\", \"\\u4e0b\\u964d\", \"\\u4e0b\\u964d\", \"\\u4e1a\\u52a1\", \"\\u4e1a\\u52a1\", \"\\u4e1a\\u52a1\", \"\\u4e1a\\u52a1\", \"\\u4e1a\\u52a1\", \"\\u4e1a\\u7ee9\", \"\\u4e1a\\u7ee9\", \"\\u4e1a\\u7ee9\", \"\\u4e1a\\u7ee9\", \"\\u4e1a\\u7ee9\", \"\\u4e1c\\u98ce\\u6c7d\\u8f66\", \"\\u4e2a\\u80a1\", \"\\u4e2a\\u80a1\", \"\\u4e2a\\u80a1\", \"\\u4e2d\\u5174\", \"\\u4e2d\\u5174\", \"\\u4e2d\\u56fd\", \"\\u4e2d\\u56fd\", \"\\u4e2d\\u56fd\", \"\\u4e2d\\u56fd\", \"\\u4e2d\\u56fd\", \"\\u4e58\\u7528\\u8f66\", \"\\u4e71\\u8c61\", \"\\u4e8c\\u5b63\\u5ea6\", \"\\u4e8c\\u5b63\\u5ea6\", \"\\u4e91\\u7f51\", \"\\u4e94\\u5927\", \"\\u4e94\\u5927\", \"\\u4e94\\u5927\", \"\\u4ea7\\u54c1\", \"\\u4ea7\\u54c1\", \"\\u4ea7\\u54c1\", \"\\u4ea7\\u54c1\", \"\\u4ea7\\u54c1\", \"\\u4ea7\\u80fd\", \"\\u4ea7\\u80fd\", \"\\u4ea7\\u80fd\", \"\\u4ea7\\u80fd\", \"\\u4ea7\\u80fd\", \"\\u4eba\\u6570\", \"\\u4eba\\u6570\", \"\\u4eba\\u6c11\\u5e01\", \"\\u4eba\\u6c11\\u5e01\", \"\\u4eba\\u6c11\\u5e01\", \"\\u4eba\\u6c11\\u5e01\", \"\\u4ebf\\u80a1\", \"\\u4ebf\\u80a1\", \"\\u4f01\\u4e1a\", \"\\u4f01\\u4e1a\", \"\\u4f01\\u4e1a\", \"\\u4f01\\u4e1a\", \"\\u4f01\\u4e1a\", \"\\u4f18\\u52bf\", \"\\u4f18\\u52bf\", \"\\u4f18\\u52bf\", \"\\u4f18\\u52bf\", \"\\u4f18\\u52bf\", \"\\u4f30\\u503c\", \"\\u4f30\\u503c\", \"\\u4f30\\u503c\", \"\\u4f30\\u503c\", \"\\u4f30\\u503c\", \"\\u4f4f\\u623f\", \"\\u4f9b\\u5e94\\u5546\", \"\\u4f9b\\u5e94\\u5546\", \"\\u4f9b\\u5e94\\u5546\", \"\\u4fdd\\u6301\", \"\\u4fdd\\u6301\", \"\\u4fdd\\u6301\", \"\\u4fdd\\u6301\", \"\\u4fdd\\u8350\", \"\\u4fe1\\u606f\", \"\\u4fe1\\u606f\", \"\\u4fe1\\u606f\", \"\\u4fe1\\u606f\", \"\\u4fe1\\u606f\", \"\\u4fe1\\u606f\\u5316\", \"\\u503a\\u52a1\", \"\\u503a\\u52a1\", \"\\u504f\\u597d\", \"\\u5148\\u751f\", \"\\u5148\\u751f\", \"\\u5165\\u6469\", \"\\u5168\\u7403\", \"\\u5168\\u7403\", \"\\u5168\\u7403\", \"\\u5168\\u7403\", \"\\u516c\\u5171\", \"\\u516c\\u5171\", \"\\u516c\\u52df\", \"\\u516c\\u544a\", \"\\u516c\\u544a\", \"\\u516c\\u544a\", \"\\u516c\\u544a\", \"\\u516c\\u79ef\\u91d1\", \"\\u5173\\u8054\\u65b9\", \"\\u519b\\u6c11\", \"\\u51c0\\u5229\\u6da6\", \"\\u51c0\\u5229\\u6da6\", \"\\u51c0\\u5229\\u6da6\", \"\\u51c0\\u5229\\u6da6\", \"\\u51c0\\u5229\\u6da6\", \"\\u51c6\\u5907\\u91d1\\u7387\", \"\\u51cf\\u5c11\", \"\\u51cf\\u5c11\", \"\\u51cf\\u5c11\", \"\\u51cf\\u5c11\", \"\\u5206\\u7ea2\", \"\\u5206\\u7ea2\", \"\\u521b\\u4e1a\\u677f\", \"\\u521b\\u4e1a\\u677f\", \"\\u521b\\u4e1a\\u677f\", \"\\u521b\\u65b0\", \"\\u521b\\u65b0\", \"\\u521b\\u65b0\", \"\\u521b\\u65b0\", \"\\u521b\\u65b0\", \"\\u5229\\u7387\", \"\\u5229\\u7387\", \"\\u52a0\\u606f\", \"\\u52df\\u8d44\", \"\\u52df\\u96c6\", \"\\u52df\\u96c6\", \"\\u5316\\u5b66\", \"\\u5316\\u5b66\", \"\\u5316\\u5b66\", \"\\u5316\\u5b66\", \"\\u5317\\u4e0a\", \"\\u5317\\u5411\", \"\\u533a\\u5757\", \"\\u5356\\u51fa\", \"\\u5356\\u51fa\", \"\\u5356\\u51fa\", \"\\u53cc\\u65b9\", \"\\u53cc\\u65b9\", \"\\u53d1\\u5c55\", \"\\u53d1\\u5c55\", \"\\u53d1\\u5c55\", \"\\u53d1\\u5c55\", \"\\u53d1\\u5c55\", \"\\u53d1\\u884c\", \"\\u53d1\\u884c\", \"\\u53d1\\u884c\", \"\\u53d1\\u884c\", \"\\u53d1\\u884c\\u4eba\", \"\\u53ec\\u5f00\", \"\\u53ec\\u5f00\", \"\\u53ec\\u5f00\", \"\\u53ec\\u5f00\", \"\\u5408\\u4f5c\", \"\\u5408\\u4f5c\", \"\\u5408\\u4f5c\", \"\\u5408\\u4f5c\", \"\\u540c\\u4e1a\", \"\\u540c\\u6bd4\", \"\\u540c\\u6bd4\", \"\\u540c\\u6bd4\", \"\\u540c\\u6bd4\", \"\\u540c\\u6bd4\", \"\\u5458\\u5de5\", \"\\u5458\\u5de5\", \"\\u5458\\u5de5\", \"\\u5468\\u8f6c\", \"\\u54c1\\u724c\", \"\\u54c1\\u724c\", \"\\u54c1\\u724c\", \"\\u54c1\\u79cd\", \"\\u5546\\u4e1a\\u94f6\\u884c\", \"\\u5546\\u4e1a\\u94f6\\u884c\", \"\\u56de\\u62e8\", \"\\u56de\\u8d2d\", \"\\u56de\\u8d2d\", \"\\u56de\\u8d2d\", \"\\u56fd\\u4ea7\", \"\\u56fd\\u4ea7\", \"\\u56fd\\u5185\", \"\\u56fd\\u5185\", \"\\u56fd\\u5185\", \"\\u56fd\\u5185\", \"\\u56fd\\u5185\", \"\\u56fd\\u5bb6\", \"\\u56fd\\u5bb6\", \"\\u56fd\\u5bb6\", \"\\u56fd\\u5bb6\", \"\\u56fd\\u5bb6\", \"\\u56fd\\u9645\", \"\\u56fd\\u9645\", \"\\u56fd\\u9645\", \"\\u56fd\\u9645\", \"\\u57ce\\u5e02\", \"\\u57ce\\u5e02\", \"\\u57ce\\u5e02\", \"\\u57ce\\u5e02\", \"\\u57fa\\u91d1\", \"\\u57fa\\u91d1\", \"\\u57fa\\u91d1\", \"\\u57fa\\u91d1\", \"\\u589e\\u52a0\", \"\\u589e\\u52a0\", \"\\u589e\\u52a0\", \"\\u589e\\u52a0\", \"\\u589e\\u52a0\", \"\\u589e\\u6301\", \"\\u589e\\u6301\", \"\\u589e\\u901f\", \"\\u589e\\u901f\", \"\\u589e\\u901f\", \"\\u589e\\u901f\", \"\\u589e\\u901f\", \"\\u589e\\u957f\", \"\\u589e\\u957f\", \"\\u589e\\u957f\", \"\\u589e\\u957f\", \"\\u589e\\u957f\", \"\\u5916\\u6c47\", \"\\u5916\\u8d44\", \"\\u5916\\u8d44\", \"\\u5916\\u8d44\", \"\\u5927\\u76d8\", \"\\u5927\\u76d8\", \"\\u5927\\u901a\", \"\\u592e\\u884c\", \"\\u5934\\u6761\", \"\\u5b58\\u6b3e\", \"\\u5b58\\u6b3e\", \"\\u5b9e\\u4f53\", \"\\u5b9e\\u4f53\", \"\\u5ba1\\u8ba1\\u62a5\\u544a\", \"\\u5bb6\\u6570\", \"\\u5bcc\\u58eb\\u5eb7\", \"\\u5bcc\\u58eb\\u5eb7\", \"\\u5bcc\\u8054\", \"\\u5de5\\u4e1a\", \"\\u5de5\\u4e1a\", \"\\u5de5\\u4e1a\", \"\\u5de5\\u4e1a\", \"\\u5de5\\u4e1a\", \"\\u5de5\\u5177\", \"\\u5de5\\u5177\", \"\\u5e02\\u573a\", \"\\u5e02\\u573a\", \"\\u5e02\\u573a\", \"\\u5e02\\u573a\", \"\\u5e02\\u573a\", \"\\u5e02\\u573a\\u5316\", \"\\u5e73\\u53f0\", \"\\u5e73\\u53f0\", \"\\u5e73\\u53f0\", \"\\u5e73\\u53f0\", \"\\u5e73\\u53f0\", \"\\u5e73\\u5b89\", \"\\u5e73\\u5b89\", \"\\u5e73\\u5b89\", \"\\u5e73\\u5b89\", \"\\u5e74\\u5ea6\", \"\\u5e74\\u5ea6\", \"\\u5e74\\u5ea6\", \"\\u5e74\\u5ea6\", \"\\u5e74\\u672b\", \"\\u5e74\\u672b\", \"\\u5e94\\u7528\", \"\\u5e94\\u7528\", \"\\u5e94\\u7528\", \"\\u5efa\\u7acb\", \"\\u5efa\\u7acb\", \"\\u5f00\\u6237\", \"\\u611f\\u8c22\\u60a8\", \"\\u6210\\u672c\", \"\\u6210\\u672c\", \"\\u6210\\u672c\", \"\\u6211\\u56fd\", \"\\u6211\\u56fd\", \"\\u6211\\u56fd\", \"\\u6211\\u56fd\", \"\\u6211\\u56fd\", \"\\u6218\\u7565\", \"\\u6218\\u7565\", \"\\u6218\\u7565\", \"\\u6218\\u7565\", \"\\u623f\\u4ef7\", \"\\u623f\\u4f01\", \"\\u623f\\u5730\\u4ea7\", \"\\u623f\\u5730\\u4ea7\", \"\\u623f\\u5730\\u4ea7\", \"\\u6253\\u9020\", \"\\u6279\\u6587\", \"\\u6279\\u6587\", \"\\u6280\\u672f\", \"\\u6280\\u672f\", \"\\u6280\\u672f\", \"\\u6280\\u672f\", \"\\u6295\\u8d44\", \"\\u6295\\u8d44\", \"\\u6295\\u8d44\", \"\\u6295\\u8d44\", \"\\u6295\\u8d44\", \"\\u6295\\u8d44\\u8005\", \"\\u6295\\u8d44\\u8005\", \"\\u6295\\u8d44\\u8005\", \"\\u6295\\u8d44\\u8005\", \"\\u6296\\u97f3\", \"\\u62ab\\u9732\", \"\\u62ab\\u9732\", \"\\u62ab\\u9732\", \"\\u62ab\\u9732\", \"\\u62db\\u80a1\", \"\\u62db\\u80a1\\u4e66\", \"\\u6301\\u4ed3\", \"\\u6301\\u4ed3\", \"\\u6307\\u6570\", \"\\u6307\\u6570\", \"\\u6307\\u6570\", \"\\u6307\\u6570\", \"\\u63d0\\u4f9b\", \"\\u63d0\\u4f9b\", \"\\u63d0\\u4f9b\", \"\\u63d0\\u4f9b\", \"\\u63d0\\u4f9b\", \"\\u63d0\\u5347\", \"\\u63d0\\u5347\", \"\\u63d0\\u5347\", \"\\u63d0\\u5347\", \"\\u63d0\\u5347\", \"\\u6469\\u6839\", \"\\u652f\\u51fa\", \"\\u652f\\u51fa\", \"\\u6536\\u5165\", \"\\u6536\\u5165\", \"\\u6536\\u5165\", \"\\u6536\\u5165\", \"\\u6536\\u5165\", \"\\u6536\\u5230\", \"\\u6536\\u5230\", \"\\u653f\\u7b56\", \"\\u653f\\u7b56\", \"\\u653f\\u7b56\", \"\\u653f\\u7b56\", \"\\u653f\\u7b56\", \"\\u6570\\u636e\", \"\\u6570\\u636e\", \"\\u6570\\u636e\", \"\\u6570\\u636e\", \"\\u6570\\u636e\", \"\\u6570\\u636e\\u4e2d\\u5fc3\", \"\\u6574\\u6cbb\", \"\\u65b0\\u80a1\", \"\\u65b0\\u80a1\", \"\\u65b0\\u80fd\\u6e90\", \"\\u65b0\\u80fd\\u6e90\", \"\\u65b0\\u80fd\\u6e90\", \"\\u65d7\\u4e0b\", \"\\u65d7\\u4e0b\", \"\\u65d7\\u4e0b\", \"\\u667a\\u6167\", \"\\u667a\\u6167\", \"\\u667a\\u6167\", \"\\u6709\\u9650\\u516c\\u53f8\", \"\\u6709\\u9650\\u516c\\u53f8\", \"\\u6709\\u9650\\u516c\\u53f8\", \"\\u670d\\u52a1\", \"\\u670d\\u52a1\", \"\\u670d\\u52a1\", \"\\u670d\\u52a1\", \"\\u671f\\u4e3a\", \"\\u673a\\u6784\", \"\\u673a\\u6784\", \"\\u673a\\u6784\", \"\\u673a\\u6784\", \"\\u673a\\u6784\", \"\\u6749\\u6749\", \"\\u677f\\u5757\", \"\\u677f\\u5757\", \"\\u677f\\u5757\", \"\\u677f\\u5757\", \"\\u677f\\u5757\", \"\\u6846\\u67b6\", \"\\u6846\\u67b6\", \"\\u6846\\u67b6\", \"\\u697c\\u5e02\", \"\\u6982\\u5ff5\", \"\\u6982\\u5ff5\", \"\\u6982\\u5ff5\", \"\\u6982\\u5ff5\\u80a1\", \"\\u6982\\u5ff5\\u80a1\", \"\\u6982\\u5ff5\\u80a1\", \"\\u6c47\\u5151\", \"\\u6c47\\u7387\", \"\\u6c7d\\u8f66\", \"\\u6c7d\\u8f66\", \"\\u6c7d\\u8f66\", \"\\u6c7d\\u8f66\", \"\\u6ce2\\u52a8\", \"\\u6ce2\\u52a8\", \"\\u6ce2\\u52a8\", \"\\u6cf0\\u56fd\", \"\\u6cf0\\u56fd\", \"\\u6d41\\u52a8\\u6027\", \"\\u6d4b\\u8bd5\", \"\\u6d4b\\u8bd5\", \"\\u6da8\\u5e45\", \"\\u6da8\\u5e45\", \"\\u6da8\\u5e45\", \"\\u6da8\\u5e45\", \"\\u6df7\\u5408\", \"\\u6df7\\u5408\", \"\\u6e05\\u7406\", \"\\u6e38\\u8d44\", \"\\u7126\\u5316\", \"\\u7164\\u70ad\", \"\\u7164\\u70ad\", \"\\u7279\\u65af\\u62c9\", \"\\u7279\\u65af\\u62c9\", \"\\u72ec\\u89d2\\u517d\", \"\\u72ec\\u89d2\\u517d\", \"\\u72ec\\u89d2\\u517d\", \"\\u73af\\u4fdd\", \"\\u73af\\u4fdd\", \"\\u73af\\u4fdd\", \"\\u73af\\u4fdd\", \"\\u73af\\u4fdd\", \"\\u73af\\u6bd4\", \"\\u73af\\u6bd4\", \"\\u73af\\u6bd4\", \"\\u73af\\u6bd4\", \"\\u7528\\u6237\", \"\\u7533\\u62a5\", \"\\u7533\\u8d2d\", \"\\u7533\\u8d2d\", \"\\u7535\\u5b50\", \"\\u7535\\u5b50\", \"\\u7535\\u5b50\", \"\\u7535\\u5b50\", \"\\u7535\\u5b50\", \"\\u767d\\u9152\", \"\\u767d\\u9a6c\", \"\\u767d\\u9a6c\\u80a1\", \"\\u767e\\u5206\\u70b9\", \"\\u767e\\u5206\\u70b9\", \"\\u767e\\u5206\\u70b9\", \"\\u767e\\u5206\\u70b9\", \"\\u770b\\u597d\", \"\\u770b\\u597d\", \"\\u770b\\u597d\", \"\\u77ed\\u7ebf\", \"\\u77f3\\u58a8\", \"\\u79c1\\u52df\", \"\\u79c1\\u52df\", \"\\u79c1\\u52df\", \"\\u79d1\\u6280\", \"\\u79d1\\u6280\", \"\\u79d1\\u6280\", \"\\u79d8\\u4e66\", \"\\u79df\\u8d41\", \"\\u79df\\u8d41\", \"\\u79df\\u8d41\", \"\\u7ba1\\u7406\", \"\\u7ba1\\u7406\", \"\\u7ba1\\u7406\", \"\\u7ba1\\u7406\", \"\\u7ba1\\u7406\", \"\\u7cfb\\u7edf\", \"\\u7cfb\\u7edf\", \"\\u7eaf\\u78b1\", \"\\u7ecf\\u6d4e\", \"\\u7ecf\\u6d4e\", \"\\u7ecf\\u6d4e\", \"\\u7ecf\\u6d4e\", \"\\u7ecf\\u6d4e\", \"\\u7f51\\u4e0a\", \"\\u7f51\\u4e0a\", \"\\u7f51\\u4e0a\", \"\\u7f5a\\u5355\", \"\\u7f8e\\u5143\", \"\\u7f8e\\u5143\", \"\\u7f8e\\u5143\", \"\\u7f8e\\u56fd\", \"\\u7f8e\\u56fd\", \"\\u80a1\\u4e1c\", \"\\u80a1\\u4e1c\", \"\\u80a1\\u4e1c\", \"\\u80a1\\u4e1c\", \"\\u80a1\\u4e1c\", \"\\u80a1\\u4e1c\\u5927\\u4f1a\", \"\\u80a1\\u4efd\", \"\\u80a1\\u4efd\", \"\\u80a1\\u4efd\", \"\\u80a1\\u4efd\", \"\\u80a1\\u672c\", \"\\u80a1\\u672c\", \"\\u80a1\\u7968\", \"\\u80a1\\u7968\", \"\\u80a1\\u7968\", \"\\u80a1\\u901a\", \"\\u817e\\u8baf\", \"\\u817e\\u8baf\", \"\\u8425\\u6536\", \"\\u8425\\u6536\", \"\\u8425\\u9500\", \"\\u8425\\u9500\", \"\\u84dd\\u7b79\", \"\\u84dd\\u7b79\\u80a1\", \"\\u878d\\u5408\", \"\\u878d\\u8d44\", \"\\u878d\\u8d44\", \"\\u878d\\u8d44\", \"\\u878d\\u8d44\", \"\\u878d\\u8d44\", \"\\u884c\\u4e1a\", \"\\u884c\\u4e1a\", \"\\u884c\\u4e1a\", \"\\u884c\\u4e1a\", \"\\u884c\\u4e1a\", \"\\u8865\\u5145\", \"\\u8865\\u5145\", \"\\u8865\\u5145\", \"\\u8865\\u8d34\", \"\\u8865\\u8d34\", \"\\u8865\\u8d34\", \"\\u89c4\\u5212\", \"\\u89c4\\u5212\", \"\\u89c4\\u5212\", \"\\u89c4\\u6a21\", \"\\u89c4\\u6a21\", \"\\u89c4\\u6a21\", \"\\u89c4\\u6a21\", \"\\u89c4\\u6a21\", \"\\u89c6\\u7f51\", \"\\u89c6\\u7f51\", \"\\u89c6\\u9891\", \"\\u8bb0\\u8005\", \"\\u8bb0\\u8005\", \"\\u8bb0\\u8005\", \"\\u8bb0\\u8005\", \"\\u8bb0\\u8005\", \"\\u8bc1\\u5238\", \"\\u8bc1\\u5238\", \"\\u8bc1\\u5238\", \"\\u8bc1\\u5238\", \"\\u8bc1\\u5238\", \"\\u8bc1\\u5238\\u62a5\", \"\\u8bc1\\u5238\\u62a5\", \"\\u8bc1\\u5238\\u62a5\", \"\\u8bc1\\u5238\\u65e5\\u62a5\", \"\\u8bc1\\u5238\\u65e5\\u62a5\", \"\\u8bc1\\u5238\\u65e5\\u62a5\", \"\\u8bc1\\u5238\\u65e5\\u62a5\", \"\\u8be2\\u4ef7\", \"\\u8bf4\\u660e\\u4e66\", \"\\u8bf4\\u660e\\u4e66\", \"\\u8c03\\u63a7\", \"\\u8c03\\u63a7\", \"\\u8c03\\u7814\", \"\\u8c03\\u7814\", \"\\u8c03\\u7814\", \"\\u8c03\\u7814\", \"\\u8d22\\u653f\\u90e8\", \"\\u8d22\\u653f\\u90e8\", \"\\u8d27\\u5e01\", \"\\u8d27\\u5e01\\u653f\\u7b56\", \"\\u8d2d\\u4e70\", \"\\u8d2d\\u4e70\", \"\\u8d2d\\u4e70\", \"\\u8d2d\\u4e70\", \"\\u8d3e\\u8dc3\\u4ead\", \"\\u8d44\\u4ea7\", \"\\u8d44\\u4ea7\", \"\\u8d44\\u4ea7\", \"\\u8d44\\u4ea7\", \"\\u8d44\\u4ea7\", \"\\u8d44\\u7ba1\", \"\\u8d44\\u91d1\", \"\\u8d44\\u91d1\", \"\\u8d44\\u91d1\", \"\\u8d44\\u91d1\", \"\\u8d44\\u91d1\", \"\\u8d44\\u91d1\\u989d\", \"\\u8d75\\u51ef\", \"\\u8f6c\\u589e\", \"\\u8f6f\\u4ef6\", \"\\u8f6f\\u4ef6\", \"\\u8f6f\\u4ef6\", \"\\u8fc7\\u4f1a\", \"\\u8fd0\\u7b97\", \"\\u8fdd\\u89c4\", \"\\u8fdd\\u89c4\", \"\\u90e8\\u95e8\", \"\\u90e8\\u95e8\", \"\\u90e8\\u95e8\", \"\\u90e8\\u95e8\", \"\\u914d\\u552e\", \"\\u914d\\u7f6e\", \"\\u914d\\u7f6e\", \"\\u914d\\u7f6e\", \"\\u91cd\\u4ed3\", \"\\u91d1\\u878d\", \"\\u91d1\\u878d\", \"\\u91d1\\u878d\", \"\\u91d1\\u878d\", \"\\u91d1\\u878d\", \"\\u91d1\\u878d\\u673a\\u6784\", \"\\u91d1\\u878d\\u673a\\u6784\", \"\\u91d1\\u878d\\u673a\\u6784\", \"\\u91d1\\u989d\", \"\\u91d1\\u989d\", \"\\u91d1\\u989d\", \"\\u94f6\\u884c\", \"\\u94f6\\u884c\", \"\\u94f6\\u884c\", \"\\u94f6\\u884c\", \"\\u94f6\\u884c\", \"\\u94f6\\u884c\\u4e1a\", \"\\u94f6\\u884c\\u4e1a\", \"\\u9501\\u5b9a\", \"\\u9501\\u5b9a\", \"\\u9501\\u5b9a\", \"\\u95e8\\u5e97\", \"\\u95e8\\u5e97\", \"\\u964d\\u51c6\", \"\\u96c6\\u56e2\", \"\\u96c6\\u56e2\", \"\\u96c6\\u56e2\", \"\\u96c6\\u56e2\", \"\\u96c6\\u56e2\", \"\\u96f6\\u552e\", \"\\u96f6\\u552e\", \"\\u96f6\\u90e8\\u4ef6\", \"\\u96f6\\u90e8\\u4ef6\", \"\\u9707\\u8361\", \"\\u9707\\u8361\", \"\\u9707\\u8361\", \"\\u9752\\u5c9b\", \"\\u9752\\u5c9b\", \"\\u9879\\u76ee\", \"\\u9879\\u76ee\", \"\\u9879\\u76ee\", \"\\u9879\\u76ee\", \"\\u9879\\u76ee\", \"\\u9884\\u544a\", \"\\u9884\\u7b97\", \"\\u9886\\u57df\", \"\\u9886\\u57df\", \"\\u9886\\u57df\", \"\\u9886\\u57df\", \"\\u9886\\u57df\", \"\\u98ce\\u9669\", \"\\u98ce\\u9669\", \"\\u98ce\\u9669\", \"\\u98ce\\u9669\", \"\\u98ce\\u9669\", \"\\u98de\\u673a\", \"\\u98de\\u673a\", \"\\u98df\\u54c1\\u996e\\u6599\", \"\\u9f99\\u864e\\u699c\"]}, \"R\": 30, \"lambda.step\": 0.01, \"plot.opts\": {\"xlab\": \"PC1\", \"ylab\": \"PC2\"}, \"topic.order\": [5, 4, 1, 3, 2]};\n",
       "\n",
       "function LDAvis_load_lib(url, callback){\n",
       "  var s = document.createElement('script');\n",
       "  s.src = url;\n",
       "  s.async = true;\n",
       "  s.onreadystatechange = s.onload = callback;\n",
       "  s.onerror = function(){console.warn(\"failed to load library \" + url);};\n",
       "  document.getElementsByTagName(\"head\")[0].appendChild(s);\n",
       "}\n",
       "\n",
       "if(typeof(LDAvis) !== \"undefined\"){\n",
       "   // already loaded: just create the visualization\n",
       "   !function(LDAvis){\n",
       "       new LDAvis(\"#\" + \"ldavis_el81728404116601042879375943\", ldavis_el81728404116601042879375943_data);\n",
       "   }(LDAvis);\n",
       "}else if(typeof define === \"function\" && define.amd){\n",
       "   // require.js is available: use it to load d3/LDAvis\n",
       "   require.config({paths: {d3: \"https://cdnjs.cloudflare.com/ajax/libs/d3/3.5.5/d3.min\"}});\n",
       "   require([\"d3\"], function(d3){\n",
       "      window.d3 = d3;\n",
       "      LDAvis_load_lib(\"https://cdn.rawgit.com/bmabey/pyLDAvis/files/ldavis.v1.0.0.js\", function(){\n",
       "        new LDAvis(\"#\" + \"ldavis_el81728404116601042879375943\", ldavis_el81728404116601042879375943_data);\n",
       "      });\n",
       "    });\n",
       "}else{\n",
       "    // require.js not available: dynamically load d3 & LDAvis\n",
       "    LDAvis_load_lib(\"https://cdnjs.cloudflare.com/ajax/libs/d3/3.5.5/d3.min.js\", function(){\n",
       "         LDAvis_load_lib(\"https://cdn.rawgit.com/bmabey/pyLDAvis/files/ldavis.v1.0.0.js\", function(){\n",
       "                 new LDAvis(\"#\" + \"ldavis_el81728404116601042879375943\", ldavis_el81728404116601042879375943_data);\n",
       "            })\n",
       "         });\n",
       "}\n",
       "</script>"
      ],
      "text/plain": [
       "PreparedData(topic_coordinates=            Freq  cluster  topics         x         y\n",
       "topic                                                \n",
       "4      26.364643        1       1  0.012010 -0.024087\n",
       "3      24.246583        1       2 -0.136359  0.108574\n",
       "0      23.644552        1       3 -0.174919 -0.124152\n",
       "2      13.407618        1       4  0.201317 -0.101654\n",
       "1      12.336605        1       5  0.097951  0.141319, topic_info=     Category        Freq  Term       Total  loglift  logprob\n",
       "term                                                         \n",
       "385   Default  427.000000   富士康  427.000000  30.0000  30.0000\n",
       "54    Default  436.000000    个股  436.000000  29.0000  29.0000\n",
       "952   Default  441.000000    银行  441.000000  28.0000  28.0000\n",
       "294   Default  391.000000    同比  391.000000  27.0000  27.0000\n",
       "344   Default  466.000000    增长  466.000000  26.0000  26.0000\n",
       "788   Default  779.000000    股份  779.000000  25.0000  25.0000\n",
       "277   Default  351.000000    发行  351.000000  24.0000  24.0000\n",
       "651   Default  176.000000   流动性  176.000000  23.0000  23.0000\n",
       "876   Default  168.000000  货币政策  168.000000  22.0000  22.0000\n",
       "335   Default  380.000000    基金  380.000000  21.0000  21.0000\n",
       "122   Default  638.000000    企业  638.000000  20.0000  20.0000\n",
       "879   Default  288.000000    购买  288.000000  19.0000  19.0000\n",
       "207   Default  189.000000    减少  189.000000  18.0000  18.0000\n",
       "864   Default  228.000000    调研  228.000000  17.0000  17.0000\n",
       "495   Default  308.000000    披露  308.000000  16.0000  16.0000\n",
       "964   Default  121.000000    降准  121.000000  15.0000  15.0000\n",
       "3     Default  117.000000   mlf  117.000000  14.0000  14.0000\n",
       "421   Default  214.000000    年度  214.000000  13.0000  13.0000\n",
       "472   Default  279.000000    战略  279.000000  12.0000  12.0000\n",
       "437   Default  157.000000    开户  157.000000  11.0000  11.0000\n",
       "347   Default  100.000000    外汇  100.000000  10.0000  10.0000\n",
       "891   Default  519.000000    资金  519.000000   9.0000   9.0000\n",
       "491   Default  351.000000   投资者  351.000000   8.0000   8.0000\n",
       "357   Default   95.000000    央行   95.000000   7.0000   7.0000\n",
       "337   Default  215.000000    增加  215.000000   6.0000   6.0000\n",
       "613   Default  283.000000    板块  283.000000   5.0000   5.0000\n",
       "935   Default  131.000000    配售  131.000000   4.0000   4.0000\n",
       "951   Default  171.000000    金额  171.000000   3.0000   3.0000\n",
       "820   Default  147.000000    融资  147.000000   2.0000   2.0000\n",
       "299   Default  103.000000    员工  103.000000   1.0000   1.0000\n",
       "...       ...         ...   ...         ...      ...      ...\n",
       "532    Topic5   27.274177    支出   34.792724   1.8491  -5.7041\n",
       "16     Topic5   22.400881    万科   28.731847   1.8437  -5.9010\n",
       "96     Topic5   38.016316    五大   49.264485   1.8334  -5.3721\n",
       "687    Topic5   43.223221    环比   56.804938   1.8194  -5.2437\n",
       "952    Topic5  274.177854    银行  441.700730   1.6157  -3.3963\n",
       "294    Topic5  242.520427    同比  391.707585   1.6132  -3.5190\n",
       "934    Topic5   41.626007    部门   56.950034   1.7792  -5.2813\n",
       "709    Topic5   64.220921   百分点   95.195801   1.6990  -4.8477\n",
       "344    Topic5  232.608272    增长  466.090882   1.3976  -3.5607\n",
       "38     Topic5   70.860028    下降  117.100409   1.5903  -4.7494\n",
       "15     Topic5   40.008177   万亿元   57.043935   1.7379  -5.3210\n",
       "337    Topic5   97.031568    增加  215.184305   1.2961  -4.4350\n",
       "342    Topic5   79.481676    增速  168.782916   1.3395  -4.6345\n",
       "332    Topic5   65.741925    城市  135.830726   1.3669  -4.8243\n",
       "204    Topic5   94.650636   净利润  254.916638   1.1019  -4.4599\n",
       "246    Topic5   41.993595    化学   69.613635   1.5872  -5.2726\n",
       "974    Topic5   87.815284    项目  271.085028   0.9654  -4.5348\n",
       "122    Topic5  131.432925    企业  638.551834   0.5119  -4.1316\n",
       "885    Topic5   62.543236    资产  178.556023   1.0436  -4.8742\n",
       "22     Topic5   45.060261    上升   81.788929   1.4965  -5.2021\n",
       "534    Topic5   55.263947    收入  148.020344   1.1074  -4.9979\n",
       "47     Topic5   70.212532    业务  352.004202   0.4805  -4.7585\n",
       "26     Topic5   63.741986    上市  269.377165   0.6513  -4.8552\n",
       "546    Topic5   49.080490    政策  146.124839   1.0016  -5.1166\n",
       "788    Topic5   67.819045    股份  779.272786  -0.3489  -4.7932\n",
       "821    Topic5   60.229460    行业  420.845521   0.1485  -4.9119\n",
       "761    Topic5   54.241143    经济  255.723947   0.5419  -5.0166\n",
       "409    Topic5   60.053244    市场  799.561466  -0.4962  -4.9148\n",
       "847    Topic5   51.338486    记者  223.536652   0.6215  -5.0716\n",
       "835    Topic5   49.799943    规模  195.435664   0.7254  -5.1021\n",
       "\n",
       "[330 rows x 6 columns], token_table=      Topic      Freq  Term\n",
       "term                       \n",
       "0         1  0.008885    a股\n",
       "0         2  0.515335    a股\n",
       "0         3  0.337633    a股\n",
       "0         4  0.056272    a股\n",
       "0         5  0.079966    a股\n",
       "1         2  0.066574   ipo\n",
       "1         3  0.923721   ipo\n",
       "2         1  0.866366    it\n",
       "2         2  0.129033    it\n",
       "3         4  0.995329   mlf\n",
       "4         2  0.984821  msci\n",
       "6         2  0.024694   ppp\n",
       "6         3  0.024694   ppp\n",
       "6         5  0.938365   ppp\n",
       "7         2  0.991743  qfii\n",
       "9         1  0.085680   一季度\n",
       "9         2  0.708286   一季度\n",
       "9         4  0.199919   一季度\n",
       "9         5  0.005712   一季度\n",
       "15        2  0.262955   万亿元\n",
       "15        4  0.017530   万亿元\n",
       "15        5  0.701214   万亿元\n",
       "16        3  0.208828    万科\n",
       "16        5  0.765701    万科\n",
       "22        1  0.110039    上升\n",
       "22        2  0.146719    上升\n",
       "22        3  0.024453    上升\n",
       "22        4  0.171172    上升\n",
       "22        5  0.550197    上升\n",
       "24        1  0.023447    上周\n",
       "...     ...       ...   ...\n",
       "968       1  0.942165    零售\n",
       "968       2  0.029443    零售\n",
       "969       1  0.939434   零部件\n",
       "969       2  0.039143   零部件\n",
       "971       1  0.027476    震荡\n",
       "971       2  0.934189    震荡\n",
       "971       3  0.054952    震荡\n",
       "972       1  0.956387    青岛\n",
       "972       2  0.041582    青岛\n",
       "974       1  0.118044    项目\n",
       "974       2  0.014756    项目\n",
       "974       3  0.501688    项目\n",
       "974       4  0.044267    项目\n",
       "974       5  0.324621    项目\n",
       "975       2  0.975018    预告\n",
       "978       5  0.958100    预算\n",
       "981       1  0.901275    领域\n",
       "981       2  0.047160    领域\n",
       "981       3  0.031440    领域\n",
       "981       4  0.005240    领域\n",
       "981       5  0.010480    领域\n",
       "982       1  0.292544    风险\n",
       "982       2  0.130020    风险\n",
       "982       3  0.032505    风险\n",
       "982       4  0.498408    风险\n",
       "982       5  0.043340    风险\n",
       "983       1  0.952755    飞机\n",
       "983       3  0.035287    飞机\n",
       "985       2  0.974059  食品饮料\n",
       "999       3  0.978177   龙虎榜\n",
       "\n",
       "[712 rows x 3 columns], R=30, lambda_step=0.01, plot_opts={'xlab': 'PC1', 'ylab': 'PC2'}, topic_order=[5, 4, 1, 3, 2])"
      ]
     },
     "execution_count": 38,
     "metadata": {},
     "output_type": "execute_result"
    }
   ],
   "source": [
    "import pyLDAvis\n",
    "import pyLDAvis.sklearn\n",
    "pyLDAvis.enable_notebook()\n",
    "pyLDAvis.sklearn.prepare(lda, tf, tf_vectorizer)"
   ]
  },
  {
   "cell_type": "code",
   "execution_count": 39,
   "metadata": {},
   "outputs": [
    {
     "name": "stderr",
     "output_type": "stream",
     "text": [
      "D:\\Anaconda3\\lib\\site-packages\\pyLDAvis\\_prepare.py:387: DeprecationWarning: \n",
      ".ix is deprecated. Please use\n",
      ".loc for label based indexing or\n",
      ".iloc for positional indexing\n",
      "\n",
      "See the documentation here:\n",
      "http://pandas.pydata.org/pandas-docs/stable/indexing.html#ix-indexer-is-deprecated\n",
      "  topic_term_dists = topic_term_dists.ix[topic_order]\n"
     ]
    },
    {
     "name": "stdout",
     "output_type": "stream",
     "text": [
      "\n",
      "Note: if you're in the IPython notebook, pyLDAvis.show() is not the best command\n",
      "      to use. Consider using pyLDAvis.display(), or pyLDAvis.enable_notebook().\n",
      "      See more information at http://pyLDAvis.github.io/quickstart.html .\n",
      "\n",
      "You must interrupt the kernel to end this command\n",
      "\n",
      "Serving to http://127.0.0.1:8889/    [Ctrl-C to exit]\n"
     ]
    },
    {
     "name": "stderr",
     "output_type": "stream",
     "text": [
      "127.0.0.1 - - [31/May/2018 20:36:27] \"GET / HTTP/1.1\" 200 -\n",
      "127.0.0.1 - - [31/May/2018 20:36:27] \"GET /LDAvis.css HTTP/1.1\" 200 -\n",
      "127.0.0.1 - - [31/May/2018 20:36:27] \"GET /d3.js HTTP/1.1\" 200 -\n",
      "127.0.0.1 - - [31/May/2018 20:36:27] \"GET /LDAvis.js HTTP/1.1\" 200 -\n"
     ]
    },
    {
     "name": "stdout",
     "output_type": "stream",
     "text": [
      "\n",
      "stopping Server...\n"
     ]
    }
   ],
   "source": [
    "data = pyLDAvis.sklearn.prepare(lda, tf, tf_vectorizer)\n",
    "pyLDAvis.show(data)"
   ]
  },
  {
   "cell_type": "code",
   "execution_count": null,
   "metadata": {},
   "outputs": [],
   "source": []
  }
 ],
 "metadata": {
  "kernelspec": {
   "display_name": "Python 3",
   "language": "python",
   "name": "python3"
  },
  "language_info": {
   "codemirror_mode": {
    "name": "ipython",
    "version": 3
   },
   "file_extension": ".py",
   "mimetype": "text/x-python",
   "name": "python",
   "nbconvert_exporter": "python",
   "pygments_lexer": "ipython3",
   "version": "3.6.4"
  }
 },
 "nbformat": 4,
 "nbformat_minor": 2
}
